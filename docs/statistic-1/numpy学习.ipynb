{
 "cells": [
  {
   "cell_type": "markdown",
   "metadata": {},
   "source": [
    "## 为啥使用 Numpy"
   ]
  },
  {
   "cell_type": "code",
   "execution_count": 1,
   "metadata": {},
   "outputs": [],
   "source": [
    "li1 = [1,2,3,4,5]\n",
    "li2 = [6,7,8,9,10]"
   ]
  },
  {
   "cell_type": "code",
   "execution_count": 2,
   "metadata": {},
   "outputs": [],
   "source": [
    "li = [6,14,24,36,50]"
   ]
  },
  {
   "cell_type": "code",
   "execution_count": 3,
   "metadata": {},
   "outputs": [
    {
     "ename": "TypeError",
     "evalue": "can't multiply sequence by non-int of type 'list'",
     "output_type": "error",
     "traceback": [
      "\u001b[1;31m---------------------------------------------------------------------------\u001b[0m",
      "\u001b[1;31mTypeError\u001b[0m                                 Traceback (most recent call last)",
      "\u001b[1;32m<ipython-input-3-952b18bc9acb>\u001b[0m in \u001b[0;36m<module>\u001b[1;34m\u001b[0m\n\u001b[1;32m----> 1\u001b[1;33m \u001b[0mli\u001b[0m \u001b[1;33m=\u001b[0m \u001b[0mli1\u001b[0m \u001b[1;33m*\u001b[0m \u001b[0mli2\u001b[0m\u001b[1;33m\u001b[0m\u001b[1;33m\u001b[0m\u001b[0m\n\u001b[0m",
      "\u001b[1;31mTypeError\u001b[0m: can't multiply sequence by non-int of type 'list'"
     ]
    }
   ],
   "source": [
    "li = li1 * li2"
   ]
  },
  {
   "cell_type": "code",
   "execution_count": 4,
   "metadata": {},
   "outputs": [
    {
     "ename": "TypeError",
     "evalue": "unsupported operand type(s) for ** or pow(): 'list' and 'int'",
     "output_type": "error",
     "traceback": [
      "\u001b[1;31m---------------------------------------------------------------------------\u001b[0m",
      "\u001b[1;31mTypeError\u001b[0m                                 Traceback (most recent call last)",
      "\u001b[1;32m<ipython-input-4-e641a7026fa1>\u001b[0m in \u001b[0;36m<module>\u001b[1;34m\u001b[0m\n\u001b[0;32m      1\u001b[0m \u001b[0mli\u001b[0m \u001b[1;33m=\u001b[0m \u001b[1;33m[\u001b[0m\u001b[1;36m1\u001b[0m\u001b[1;33m,\u001b[0m\u001b[1;36m2\u001b[0m\u001b[1;33m,\u001b[0m\u001b[1;36m3\u001b[0m\u001b[1;33m,\u001b[0m\u001b[1;36m4\u001b[0m\u001b[1;33m,\u001b[0m\u001b[1;36m5\u001b[0m\u001b[1;33m,\u001b[0m\u001b[1;36m6\u001b[0m\u001b[1;33m]\u001b[0m\u001b[1;33m\u001b[0m\u001b[1;33m\u001b[0m\u001b[0m\n\u001b[1;32m----> 2\u001b[1;33m \u001b[0mli\u001b[0m\u001b[1;33m**\u001b[0m\u001b[1;36m2\u001b[0m\u001b[1;33m\u001b[0m\u001b[1;33m\u001b[0m\u001b[0m\n\u001b[0m",
      "\u001b[1;31mTypeError\u001b[0m: unsupported operand type(s) for ** or pow(): 'list' and 'int'"
     ]
    }
   ],
   "source": [
    "li = [1,2,3,4,5,6]\n",
    "li**2"
   ]
  },
  {
   "cell_type": "code",
   "execution_count": 5,
   "metadata": {},
   "outputs": [],
   "source": [
    "import numpy as np"
   ]
  },
  {
   "cell_type": "code",
   "execution_count": 6,
   "metadata": {},
   "outputs": [],
   "source": [
    "li1 = np.array([1,2,3,4,5])\n",
    "li2 = np.array([4,5,6,7,8])"
   ]
  },
  {
   "cell_type": "code",
   "execution_count": 7,
   "metadata": {},
   "outputs": [
    {
     "data": {
      "text/plain": [
       "array([1, 2, 3, 4, 5])"
      ]
     },
     "execution_count": 7,
     "metadata": {},
     "output_type": "execute_result"
    }
   ],
   "source": [
    "li1"
   ]
  },
  {
   "cell_type": "code",
   "execution_count": 8,
   "metadata": {},
   "outputs": [
    {
     "data": {
      "text/plain": [
       "array([4, 5, 6, 7, 8])"
      ]
     },
     "execution_count": 8,
     "metadata": {},
     "output_type": "execute_result"
    }
   ],
   "source": [
    "li2"
   ]
  },
  {
   "cell_type": "code",
   "execution_count": 9,
   "metadata": {},
   "outputs": [
    {
     "data": {
      "text/plain": [
       "array([ 4, 10, 18, 28, 40])"
      ]
     },
     "execution_count": 9,
     "metadata": {},
     "output_type": "execute_result"
    }
   ],
   "source": [
    "li1 * li2"
   ]
  },
  {
   "cell_type": "markdown",
   "metadata": {},
   "source": [
    "# li1 ** 2"
   ]
  },
  {
   "cell_type": "code",
   "execution_count": 11,
   "metadata": {},
   "outputs": [
    {
     "data": {
      "text/plain": [
       "array([ 5,  7,  9, 11, 13])"
      ]
     },
     "execution_count": 11,
     "metadata": {},
     "output_type": "execute_result"
    }
   ],
   "source": [
    "li1 + li2"
   ]
  },
  {
   "cell_type": "code",
   "execution_count": 12,
   "metadata": {},
   "outputs": [
    {
     "data": {
      "text/plain": [
       "array([-3, -3, -3, -3, -3])"
      ]
     },
     "execution_count": 12,
     "metadata": {},
     "output_type": "execute_result"
    }
   ],
   "source": [
    "li1 - li2"
   ]
  },
  {
   "cell_type": "markdown",
   "metadata": {},
   "source": [
    "##  创建 ndarray"
   ]
  },
  {
   "cell_type": "markdown",
   "metadata": {},
   "source": [
    "np.array()"
   ]
  },
  {
   "cell_type": "markdown",
   "metadata": {},
   "source": [
    "### numpy的属性"
   ]
  },
  {
   "cell_type": "code",
   "execution_count": 14,
   "metadata": {},
   "outputs": [],
   "source": [
    "li = np.array([1,2,3,4,5])"
   ]
  },
  {
   "cell_type": "code",
   "execution_count": 15,
   "metadata": {},
   "outputs": [
    {
     "data": {
      "text/plain": [
       "array([1, 2, 3, 4, 5])"
      ]
     },
     "execution_count": 15,
     "metadata": {},
     "output_type": "execute_result"
    }
   ],
   "source": [
    "li"
   ]
  },
  {
   "cell_type": "code",
   "execution_count": 16,
   "metadata": {},
   "outputs": [
    {
     "data": {
      "text/plain": [
       "dtype('int32')"
      ]
     },
     "execution_count": 16,
     "metadata": {},
     "output_type": "execute_result"
    }
   ],
   "source": [
    "li.dtype  ### 元素的类型"
   ]
  },
  {
   "cell_type": "code",
   "execution_count": 18,
   "metadata": {},
   "outputs": [
    {
     "data": {
      "text/plain": [
       "5"
      ]
     },
     "execution_count": 18,
     "metadata": {},
     "output_type": "execute_result"
    }
   ],
   "source": [
    "li.size ### 元素的个数"
   ]
  },
  {
   "cell_type": "code",
   "execution_count": 20,
   "metadata": {},
   "outputs": [
    {
     "data": {
      "text/plain": [
       "1"
      ]
     },
     "execution_count": 20,
     "metadata": {},
     "output_type": "execute_result"
    }
   ],
   "source": [
    "li.ndim ### 数组的维度"
   ]
  },
  {
   "cell_type": "code",
   "execution_count": 24,
   "metadata": {},
   "outputs": [
    {
     "data": {
      "text/plain": [
       "(5,)"
      ]
     },
     "execution_count": 24,
     "metadata": {},
     "output_type": "execute_result"
    }
   ],
   "source": [
    "li.shape ### 数组维度的大小"
   ]
  },
  {
   "cell_type": "code",
   "execution_count": 26,
   "metadata": {},
   "outputs": [],
   "source": [
    "li2 = np.array([ [1,2,3,4,5], [6,7,8,9,10] ])"
   ]
  },
  {
   "cell_type": "code",
   "execution_count": 27,
   "metadata": {},
   "outputs": [
    {
     "data": {
      "text/plain": [
       "array([[ 1,  2,  3,  4,  5],\n",
       "       [ 6,  7,  8,  9, 10]])"
      ]
     },
     "execution_count": 27,
     "metadata": {},
     "output_type": "execute_result"
    }
   ],
   "source": [
    "li2"
   ]
  },
  {
   "cell_type": "code",
   "execution_count": 29,
   "metadata": {},
   "outputs": [
    {
     "data": {
      "text/plain": [
       "2"
      ]
     },
     "execution_count": 29,
     "metadata": {},
     "output_type": "execute_result"
    }
   ],
   "source": [
    "li2.ndim"
   ]
  },
  {
   "cell_type": "code",
   "execution_count": 30,
   "metadata": {},
   "outputs": [
    {
     "data": {
      "text/plain": [
       "(2, 5)"
      ]
     },
     "execution_count": 30,
     "metadata": {},
     "output_type": "execute_result"
    }
   ],
   "source": [
    "li2.shape"
   ]
  },
  {
   "cell_type": "code",
   "execution_count": 31,
   "metadata": {},
   "outputs": [],
   "source": [
    "li = np.array([1,2,3,4,5], dtype='float')"
   ]
  },
  {
   "cell_type": "code",
   "execution_count": 32,
   "metadata": {},
   "outputs": [
    {
     "data": {
      "text/plain": [
       "array([1., 2., 3., 4., 5.])"
      ]
     },
     "execution_count": 32,
     "metadata": {},
     "output_type": "execute_result"
    }
   ],
   "source": [
    "li"
   ]
  },
  {
   "cell_type": "code",
   "execution_count": 33,
   "metadata": {},
   "outputs": [
    {
     "data": {
      "text/plain": [
       "array([1, 2, 3, 4, 5])"
      ]
     },
     "execution_count": 33,
     "metadata": {},
     "output_type": "execute_result"
    }
   ],
   "source": [
    "li.astype('int')"
   ]
  },
  {
   "cell_type": "markdown",
   "metadata": {},
   "source": [
    "### 创建ndarray的几种方式"
   ]
  },
  {
   "cell_type": "code",
   "execution_count": 35,
   "metadata": {},
   "outputs": [
    {
     "data": {
      "text/plain": [
       "array([0, 1, 2, 3, 4, 5, 6, 7, 8, 9])"
      ]
     },
     "execution_count": 35,
     "metadata": {},
     "output_type": "execute_result"
    }
   ],
   "source": [
    "np.arange(0,10)  ### 生成一个nd数组"
   ]
  },
  {
   "cell_type": "code",
   "execution_count": 36,
   "metadata": {},
   "outputs": [
    {
     "data": {
      "text/plain": [
       "array([0, 2, 4, 6, 8])"
      ]
     },
     "execution_count": 36,
     "metadata": {},
     "output_type": "execute_result"
    }
   ],
   "source": [
    "np.arange(0,10,2)"
   ]
  },
  {
   "cell_type": "code",
   "execution_count": 37,
   "metadata": {},
   "outputs": [],
   "source": [
    "np.linspace?  ### 指定范围内生成指定的样本数量"
   ]
  },
  {
   "cell_type": "code",
   "execution_count": 39,
   "metadata": {},
   "outputs": [
    {
     "data": {
      "text/plain": [
       "array([2.  , 2.02, 2.04, 2.06, 2.08, 2.1 , 2.12, 2.14, 2.16, 2.18, 2.2 ,\n",
       "       2.22, 2.24, 2.26, 2.28, 2.3 , 2.32, 2.34, 2.36, 2.38, 2.4 , 2.42,\n",
       "       2.44, 2.46, 2.48, 2.5 , 2.52, 2.54, 2.56, 2.58, 2.6 , 2.62, 2.64,\n",
       "       2.66, 2.68, 2.7 , 2.72, 2.74, 2.76, 2.78, 2.8 , 2.82, 2.84, 2.86,\n",
       "       2.88, 2.9 , 2.92, 2.94, 2.96, 2.98])"
      ]
     },
     "execution_count": 39,
     "metadata": {},
     "output_type": "execute_result"
    }
   ],
   "source": [
    "np.linspace(2,3, num=50, endpoint=False)"
   ]
  },
  {
   "cell_type": "code",
   "execution_count": 40,
   "metadata": {},
   "outputs": [],
   "source": [
    "np.zeros?   #### 生成数量为n的0数组"
   ]
  },
  {
   "cell_type": "code",
   "execution_count": 41,
   "metadata": {},
   "outputs": [
    {
     "data": {
      "text/plain": [
       "array([0., 0., 0., 0., 0., 0., 0., 0., 0., 0.])"
      ]
     },
     "execution_count": 41,
     "metadata": {},
     "output_type": "execute_result"
    }
   ],
   "source": [
    "np.zeros(10)"
   ]
  },
  {
   "cell_type": "code",
   "execution_count": 42,
   "metadata": {},
   "outputs": [
    {
     "data": {
      "text/plain": [
       "array([0, 0, 0, 0, 0, 0, 0, 0, 0, 0])"
      ]
     },
     "execution_count": 42,
     "metadata": {},
     "output_type": "execute_result"
    }
   ],
   "source": [
    "np.zeros(10, dtype='int')"
   ]
  },
  {
   "cell_type": "code",
   "execution_count": 43,
   "metadata": {},
   "outputs": [
    {
     "data": {
      "text/plain": [
       "array([[0., 0.],\n",
       "       [0., 0.]])"
      ]
     },
     "execution_count": 43,
     "metadata": {},
     "output_type": "execute_result"
    }
   ],
   "source": [
    "np.zeros((2,2))"
   ]
  },
  {
   "cell_type": "code",
   "execution_count": 44,
   "metadata": {},
   "outputs": [
    {
     "data": {
      "text/plain": [
       "array([1., 1., 1., 1., 1., 1., 1., 1., 1., 1.])"
      ]
     },
     "execution_count": 44,
     "metadata": {},
     "output_type": "execute_result"
    }
   ],
   "source": [
    "np.ones(10)   ### 生成数量为n的1数组"
   ]
  },
  {
   "cell_type": "code",
   "execution_count": 45,
   "metadata": {},
   "outputs": [
    {
     "data": {
      "text/plain": [
       "array([[1., 1., 1., 1., 1., 1.],\n",
       "       [1., 1., 1., 1., 1., 1.],\n",
       "       [1., 1., 1., 1., 1., 1.],\n",
       "       [1., 1., 1., 1., 1., 1.],\n",
       "       [1., 1., 1., 1., 1., 1.]])"
      ]
     },
     "execution_count": 45,
     "metadata": {},
     "output_type": "execute_result"
    }
   ],
   "source": [
    "np.ones((5,6))"
   ]
  },
  {
   "cell_type": "code",
   "execution_count": 46,
   "metadata": {},
   "outputs": [],
   "source": [
    "li = np.ones(10)"
   ]
  },
  {
   "cell_type": "code",
   "execution_count": 47,
   "metadata": {},
   "outputs": [
    {
     "data": {
      "text/plain": [
       "array([1., 1., 1., 1., 1., 1., 1., 1., 1., 1.])"
      ]
     },
     "execution_count": 47,
     "metadata": {},
     "output_type": "execute_result"
    }
   ],
   "source": [
    "li"
   ]
  },
  {
   "cell_type": "code",
   "execution_count": 48,
   "metadata": {},
   "outputs": [
    {
     "data": {
      "text/plain": [
       "array([[1., 1., 1., 1., 1.],\n",
       "       [1., 1., 1., 1., 1.]])"
      ]
     },
     "execution_count": 48,
     "metadata": {},
     "output_type": "execute_result"
    }
   ],
   "source": [
    "li.reshape(2,5)   ### 改变数组的维度"
   ]
  },
  {
   "cell_type": "code",
   "execution_count": 49,
   "metadata": {},
   "outputs": [
    {
     "data": {
      "text/plain": [
       "array([[1., 1.],\n",
       "       [1., 1.],\n",
       "       [1., 1.],\n",
       "       [1., 1.],\n",
       "       [1., 1.]])"
      ]
     },
     "execution_count": 49,
     "metadata": {},
     "output_type": "execute_result"
    }
   ],
   "source": [
    "li.reshape(5,2)"
   ]
  },
  {
   "cell_type": "code",
   "execution_count": 50,
   "metadata": {},
   "outputs": [
    {
     "ename": "ValueError",
     "evalue": "cannot reshape array of size 10 into shape (3,3)",
     "output_type": "error",
     "traceback": [
      "\u001b[1;31m---------------------------------------------------------------------------\u001b[0m",
      "\u001b[1;31mValueError\u001b[0m                                Traceback (most recent call last)",
      "\u001b[1;32m<ipython-input-50-20bb22d53085>\u001b[0m in \u001b[0;36m<module>\u001b[1;34m\u001b[0m\n\u001b[1;32m----> 1\u001b[1;33m \u001b[0mli\u001b[0m\u001b[1;33m.\u001b[0m\u001b[0mreshape\u001b[0m\u001b[1;33m(\u001b[0m\u001b[1;36m3\u001b[0m\u001b[1;33m,\u001b[0m\u001b[1;36m3\u001b[0m\u001b[1;33m)\u001b[0m\u001b[1;33m\u001b[0m\u001b[1;33m\u001b[0m\u001b[0m\n\u001b[0m",
      "\u001b[1;31mValueError\u001b[0m: cannot reshape array of size 10 into shape (3,3)"
     ]
    }
   ],
   "source": [
    "li.reshape(3,3)"
   ]
  },
  {
   "cell_type": "markdown",
   "metadata": {},
   "source": [
    "### 向量运算"
   ]
  },
  {
   "cell_type": "code",
   "execution_count": 51,
   "metadata": {},
   "outputs": [],
   "source": [
    "li = np.array([1,2,24,6])\n"
   ]
  },
  {
   "cell_type": "code",
   "execution_count": 52,
   "metadata": {},
   "outputs": [
    {
     "data": {
      "text/plain": [
       "array([ 2,  3, 25,  7])"
      ]
     },
     "execution_count": 52,
     "metadata": {},
     "output_type": "execute_result"
    }
   ],
   "source": [
    "li + 1"
   ]
  },
  {
   "cell_type": "code",
   "execution_count": 53,
   "metadata": {},
   "outputs": [
    {
     "data": {
      "text/plain": [
       "array([ 2,  4, 48, 12])"
      ]
     },
     "execution_count": 53,
     "metadata": {},
     "output_type": "execute_result"
    }
   ],
   "source": [
    "li * 2"
   ]
  },
  {
   "cell_type": "markdown",
   "metadata": {},
   "source": [
    "### 数组的索引"
   ]
  },
  {
   "cell_type": "code",
   "execution_count": 54,
   "metadata": {},
   "outputs": [],
   "source": [
    "li = np.array([2,3,4,5,6,7,8,9])"
   ]
  },
  {
   "cell_type": "code",
   "execution_count": 55,
   "metadata": {},
   "outputs": [
    {
     "data": {
      "text/plain": [
       "array([2, 3, 4, 5, 6, 7, 8, 9])"
      ]
     },
     "execution_count": 55,
     "metadata": {},
     "output_type": "execute_result"
    }
   ],
   "source": [
    "li"
   ]
  },
  {
   "cell_type": "code",
   "execution_count": 56,
   "metadata": {},
   "outputs": [
    {
     "data": {
      "text/plain": [
       "4"
      ]
     },
     "execution_count": 56,
     "metadata": {},
     "output_type": "execute_result"
    }
   ],
   "source": [
    "li[2]"
   ]
  },
  {
   "cell_type": "code",
   "execution_count": 57,
   "metadata": {},
   "outputs": [],
   "source": [
    "li1 = li.reshape(2,4)"
   ]
  },
  {
   "cell_type": "code",
   "execution_count": 58,
   "metadata": {},
   "outputs": [
    {
     "data": {
      "text/plain": [
       "array([[2, 3, 4, 5],\n",
       "       [6, 7, 8, 9]])"
      ]
     },
     "execution_count": 58,
     "metadata": {},
     "output_type": "execute_result"
    }
   ],
   "source": [
    "li1"
   ]
  },
  {
   "cell_type": "code",
   "execution_count": 61,
   "metadata": {},
   "outputs": [
    {
     "data": {
      "text/plain": [
       "4"
      ]
     },
     "execution_count": 61,
     "metadata": {},
     "output_type": "execute_result"
    }
   ],
   "source": [
    "li1[0,2]"
   ]
  },
  {
   "cell_type": "code",
   "execution_count": 62,
   "metadata": {},
   "outputs": [
    {
     "data": {
      "text/plain": [
       "4"
      ]
     },
     "execution_count": 62,
     "metadata": {},
     "output_type": "execute_result"
    }
   ],
   "source": [
    "li1[0][2]"
   ]
  },
  {
   "cell_type": "markdown",
   "metadata": {},
   "source": [
    "### 数组切片 "
   ]
  },
  {
   "cell_type": "code",
   "execution_count": 63,
   "metadata": {},
   "outputs": [
    {
     "data": {
      "text/plain": [
       "array([[2, 3, 4, 5],\n",
       "       [6, 7, 8, 9]])"
      ]
     },
     "execution_count": 63,
     "metadata": {},
     "output_type": "execute_result"
    }
   ],
   "source": [
    "li1"
   ]
  },
  {
   "cell_type": "code",
   "execution_count": 64,
   "metadata": {},
   "outputs": [
    {
     "data": {
      "text/plain": [
       "array([2, 3, 4, 5, 6, 7, 8, 9])"
      ]
     },
     "execution_count": 64,
     "metadata": {},
     "output_type": "execute_result"
    }
   ],
   "source": [
    "li"
   ]
  },
  {
   "cell_type": "code",
   "execution_count": 65,
   "metadata": {},
   "outputs": [
    {
     "data": {
      "text/plain": [
       "array([2, 3, 4])"
      ]
     },
     "execution_count": 65,
     "metadata": {},
     "output_type": "execute_result"
    }
   ],
   "source": [
    "li[0:3]"
   ]
  },
  {
   "cell_type": "code",
   "execution_count": 66,
   "metadata": {},
   "outputs": [
    {
     "data": {
      "text/plain": [
       "array([[2, 3, 4, 5],\n",
       "       [6, 7, 8, 9]])"
      ]
     },
     "execution_count": 66,
     "metadata": {},
     "output_type": "execute_result"
    }
   ],
   "source": [
    "li1"
   ]
  },
  {
   "cell_type": "code",
   "execution_count": 67,
   "metadata": {},
   "outputs": [
    {
     "data": {
      "text/plain": [
       "array([[3, 4],\n",
       "       [7, 8]])"
      ]
     },
     "execution_count": 67,
     "metadata": {},
     "output_type": "execute_result"
    }
   ],
   "source": [
    "li1[0:2, 1:3]"
   ]
  },
  {
   "cell_type": "code",
   "execution_count": 68,
   "metadata": {},
   "outputs": [
    {
     "data": {
      "text/plain": [
       "array([2, 3, 4, 5, 6, 7, 8, 9])"
      ]
     },
     "execution_count": 68,
     "metadata": {},
     "output_type": "execute_result"
    }
   ],
   "source": [
    "li"
   ]
  },
  {
   "cell_type": "code",
   "execution_count": 69,
   "metadata": {},
   "outputs": [
    {
     "data": {
      "text/plain": [
       "array([2, 3, 4, 5, 6, 7, 8, 9])"
      ]
     },
     "execution_count": 69,
     "metadata": {},
     "output_type": "execute_result"
    }
   ],
   "source": [
    "li[:]"
   ]
  },
  {
   "cell_type": "code",
   "execution_count": 70,
   "metadata": {},
   "outputs": [
    {
     "data": {
      "text/plain": [
       "array([2, 3])"
      ]
     },
     "execution_count": 70,
     "metadata": {},
     "output_type": "execute_result"
    }
   ],
   "source": [
    "li[:2]"
   ]
  },
  {
   "cell_type": "code",
   "execution_count": 71,
   "metadata": {},
   "outputs": [
    {
     "data": {
      "text/plain": [
       "array([5, 6, 7, 8, 9])"
      ]
     },
     "execution_count": 71,
     "metadata": {},
     "output_type": "execute_result"
    }
   ],
   "source": [
    "li[3:]"
   ]
  },
  {
   "cell_type": "code",
   "execution_count": 72,
   "metadata": {},
   "outputs": [
    {
     "data": {
      "text/plain": [
       "array([[2, 3, 4, 5],\n",
       "       [6, 7, 8, 9]])"
      ]
     },
     "execution_count": 72,
     "metadata": {},
     "output_type": "execute_result"
    }
   ],
   "source": [
    "li1"
   ]
  },
  {
   "cell_type": "code",
   "execution_count": 73,
   "metadata": {},
   "outputs": [
    {
     "data": {
      "text/plain": [
       "array([[3, 4, 5],\n",
       "       [7, 8, 9]])"
      ]
     },
     "execution_count": 73,
     "metadata": {},
     "output_type": "execute_result"
    }
   ],
   "source": [
    "li1[:,1:]"
   ]
  },
  {
   "cell_type": "code",
   "execution_count": 74,
   "metadata": {},
   "outputs": [
    {
     "data": {
      "text/plain": [
       "array([9])"
      ]
     },
     "execution_count": 74,
     "metadata": {},
     "output_type": "execute_result"
    }
   ],
   "source": [
    "li[-1:]"
   ]
  },
  {
   "cell_type": "markdown",
   "metadata": {},
   "source": [
    "### 布尔型索引"
   ]
  },
  {
   "cell_type": "code",
   "execution_count": 75,
   "metadata": {},
   "outputs": [
    {
     "data": {
      "text/plain": [
       "array([2, 3, 4, 5, 6, 7, 8, 9])"
      ]
     },
     "execution_count": 75,
     "metadata": {},
     "output_type": "execute_result"
    }
   ],
   "source": [
    "li"
   ]
  },
  {
   "cell_type": "code",
   "execution_count": 76,
   "metadata": {},
   "outputs": [
    {
     "data": {
      "text/plain": [
       "array([False, False, False,  True,  True,  True,  True,  True])"
      ]
     },
     "execution_count": 76,
     "metadata": {},
     "output_type": "execute_result"
    }
   ],
   "source": [
    "li > 4"
   ]
  },
  {
   "cell_type": "code",
   "execution_count": 77,
   "metadata": {},
   "outputs": [
    {
     "data": {
      "text/plain": [
       "array([5, 6, 7, 8, 9])"
      ]
     },
     "execution_count": 77,
     "metadata": {},
     "output_type": "execute_result"
    }
   ],
   "source": [
    "li[li>4]"
   ]
  },
  {
   "cell_type": "code",
   "execution_count": 78,
   "metadata": {},
   "outputs": [
    {
     "data": {
      "text/plain": [
       "array([False, False, False, False,  True, False,  True, False])"
      ]
     },
     "execution_count": 78,
     "metadata": {},
     "output_type": "execute_result"
    }
   ],
   "source": [
    "(li > 5) & (li%2 == 0)"
   ]
  },
  {
   "cell_type": "code",
   "execution_count": 79,
   "metadata": {},
   "outputs": [
    {
     "data": {
      "text/plain": [
       "array([6, 8])"
      ]
     },
     "execution_count": 79,
     "metadata": {},
     "output_type": "execute_result"
    }
   ],
   "source": [
    "li[(li > 5) & (li%2 == 0)]"
   ]
  },
  {
   "cell_type": "markdown",
   "metadata": {},
   "source": [
    "## 花式索引 "
   ]
  },
  {
   "cell_type": "code",
   "execution_count": 80,
   "metadata": {},
   "outputs": [
    {
     "data": {
      "text/plain": [
       "array([2, 3, 4, 5, 6, 7, 8, 9])"
      ]
     },
     "execution_count": 80,
     "metadata": {},
     "output_type": "execute_result"
    }
   ],
   "source": [
    "li"
   ]
  },
  {
   "cell_type": "code",
   "execution_count": 81,
   "metadata": {},
   "outputs": [
    {
     "data": {
      "text/plain": [
       "array([3, 5, 8])"
      ]
     },
     "execution_count": 81,
     "metadata": {},
     "output_type": "execute_result"
    }
   ],
   "source": [
    "li[ [1,3,6] ]"
   ]
  },
  {
   "cell_type": "markdown",
   "metadata": {},
   "source": [
    "## 通用函数"
   ]
  },
  {
   "cell_type": "code",
   "execution_count": 82,
   "metadata": {},
   "outputs": [
    {
     "data": {
      "text/plain": [
       "array([2, 3, 4, 5, 6, 7, 8, 9])"
      ]
     },
     "execution_count": 82,
     "metadata": {},
     "output_type": "execute_result"
    }
   ],
   "source": [
    "li"
   ]
  },
  {
   "cell_type": "code",
   "execution_count": 83,
   "metadata": {},
   "outputs": [
    {
     "data": {
      "text/plain": [
       "44"
      ]
     },
     "execution_count": 83,
     "metadata": {},
     "output_type": "execute_result"
    }
   ],
   "source": [
    "li.sum()"
   ]
  },
  {
   "cell_type": "code",
   "execution_count": 84,
   "metadata": {},
   "outputs": [
    {
     "data": {
      "text/plain": [
       "44"
      ]
     },
     "execution_count": 84,
     "metadata": {},
     "output_type": "execute_result"
    }
   ],
   "source": [
    "np.sum(li)"
   ]
  },
  {
   "cell_type": "code",
   "execution_count": 85,
   "metadata": {},
   "outputs": [
    {
     "data": {
      "text/plain": [
       "5.5"
      ]
     },
     "execution_count": 85,
     "metadata": {},
     "output_type": "execute_result"
    }
   ],
   "source": [
    "li.mean() "
   ]
  },
  {
   "cell_type": "code",
   "execution_count": 87,
   "metadata": {},
   "outputs": [
    {
     "data": {
      "text/plain": [
       "array([2, 3, 4, 5, 6, 7, 8, 9])"
      ]
     },
     "execution_count": 87,
     "metadata": {},
     "output_type": "execute_result"
    }
   ],
   "source": [
    "np.abs(li)"
   ]
  },
  {
   "cell_type": "code",
   "execution_count": 89,
   "metadata": {},
   "outputs": [
    {
     "data": {
      "text/plain": [
       "array([1.41421356, 1.73205081, 2.        , 2.23606798, 2.44948974,\n",
       "       2.64575131, 2.82842712, 3.        ])"
      ]
     },
     "execution_count": 89,
     "metadata": {},
     "output_type": "execute_result"
    }
   ],
   "source": [
    "np.sqrt(li)"
   ]
  },
  {
   "cell_type": "code",
   "execution_count": 90,
   "metadata": {},
   "outputs": [
    {
     "data": {
      "text/plain": [
       "array([2., 3., 4., 5., 6., 7., 8., 9.])"
      ]
     },
     "execution_count": 90,
     "metadata": {},
     "output_type": "execute_result"
    }
   ],
   "source": [
    "np.ceil(li)"
   ]
  },
  {
   "cell_type": "code",
   "execution_count": 92,
   "metadata": {},
   "outputs": [],
   "source": [
    "li1 = np.linspace(2,8, 10)"
   ]
  },
  {
   "cell_type": "code",
   "execution_count": 93,
   "metadata": {},
   "outputs": [
    {
     "data": {
      "text/plain": [
       "array([2.        , 2.66666667, 3.33333333, 4.        , 4.66666667,\n",
       "       5.33333333, 6.        , 6.66666667, 7.33333333, 8.        ])"
      ]
     },
     "execution_count": 93,
     "metadata": {},
     "output_type": "execute_result"
    }
   ],
   "source": [
    "li1"
   ]
  },
  {
   "cell_type": "code",
   "execution_count": 94,
   "metadata": {},
   "outputs": [
    {
     "data": {
      "text/plain": [
       "array([2., 3., 4., 4., 5., 6., 6., 7., 8., 8.])"
      ]
     },
     "execution_count": 94,
     "metadata": {},
     "output_type": "execute_result"
    }
   ],
   "source": [
    "np.ceil(li1)"
   ]
  },
  {
   "cell_type": "code",
   "execution_count": 95,
   "metadata": {},
   "outputs": [
    {
     "data": {
      "text/plain": [
       "array([2., 2., 3., 4., 4., 5., 6., 6., 7., 8.])"
      ]
     },
     "execution_count": 95,
     "metadata": {},
     "output_type": "execute_result"
    }
   ],
   "source": [
    "np.floor(li1)"
   ]
  },
  {
   "cell_type": "code",
   "execution_count": 98,
   "metadata": {},
   "outputs": [],
   "source": [
    "np.rint?"
   ]
  },
  {
   "cell_type": "code",
   "execution_count": 97,
   "metadata": {},
   "outputs": [
    {
     "data": {
      "text/plain": [
       "array([2, 3, 4, 5, 6, 7, 8, 9])"
      ]
     },
     "execution_count": 97,
     "metadata": {},
     "output_type": "execute_result"
    }
   ],
   "source": [
    "li"
   ]
  },
  {
   "cell_type": "code",
   "execution_count": 99,
   "metadata": {},
   "outputs": [],
   "source": [
    "np.trunc?"
   ]
  },
  {
   "cell_type": "code",
   "execution_count": 101,
   "metadata": {},
   "outputs": [
    {
     "data": {
      "text/plain": [
       "array([False, False, False, False, False, False, False, False])"
      ]
     },
     "execution_count": 101,
     "metadata": {},
     "output_type": "execute_result"
    }
   ],
   "source": [
    "np.isnan(li)  ## Nan === None"
   ]
  },
  {
   "cell_type": "code",
   "execution_count": 102,
   "metadata": {},
   "outputs": [
    {
     "data": {
      "text/plain": [
       "array([False, False, False, False, False, False, False, False])"
      ]
     },
     "execution_count": 102,
     "metadata": {},
     "output_type": "execute_result"
    }
   ],
   "source": [
    "np.isinf(li)"
   ]
  },
  {
   "cell_type": "code",
   "execution_count": 103,
   "metadata": {},
   "outputs": [],
   "source": [
    "np.maximum?"
   ]
  },
  {
   "cell_type": "code",
   "execution_count": 106,
   "metadata": {},
   "outputs": [
    {
     "data": {
      "text/plain": [
       "nan"
      ]
     },
     "execution_count": 106,
     "metadata": {},
     "output_type": "execute_result"
    }
   ],
   "source": [
    "np.nan"
   ]
  },
  {
   "cell_type": "code",
   "execution_count": 107,
   "metadata": {},
   "outputs": [
    {
     "data": {
      "text/plain": [
       "44"
      ]
     },
     "execution_count": 107,
     "metadata": {},
     "output_type": "execute_result"
    }
   ],
   "source": [
    "li.sum()"
   ]
  },
  {
   "cell_type": "code",
   "execution_count": 109,
   "metadata": {},
   "outputs": [
    {
     "data": {
      "text/plain": [
       "5.5"
      ]
     },
     "execution_count": 109,
     "metadata": {},
     "output_type": "execute_result"
    }
   ],
   "source": [
    "li.mean()"
   ]
  },
  {
   "cell_type": "code",
   "execution_count": 110,
   "metadata": {},
   "outputs": [
    {
     "data": {
      "text/plain": [
       "5.25"
      ]
     },
     "execution_count": 110,
     "metadata": {},
     "output_type": "execute_result"
    }
   ],
   "source": [
    "li.var()"
   ]
  },
  {
   "cell_type": "code",
   "execution_count": 111,
   "metadata": {},
   "outputs": [
    {
     "data": {
      "text/plain": [
       "array([2, 3, 4, 5, 6, 7, 8, 9])"
      ]
     },
     "execution_count": 111,
     "metadata": {},
     "output_type": "execute_result"
    }
   ],
   "source": [
    "li"
   ]
  },
  {
   "cell_type": "code",
   "execution_count": 112,
   "metadata": {},
   "outputs": [],
   "source": [
    "### 方差\n",
    "#((2-5.5) ** 2 + (3-5.5) ** 2 + )/8"
   ]
  },
  {
   "cell_type": "markdown",
   "metadata": {},
   "source": [
    "## numpy的随机函数"
   ]
  },
  {
   "cell_type": "code",
   "execution_count": 113,
   "metadata": {},
   "outputs": [],
   "source": [
    "import random"
   ]
  },
  {
   "cell_type": "code",
   "execution_count": 120,
   "metadata": {},
   "outputs": [
    {
     "data": {
      "text/plain": [
       "7"
      ]
     },
     "execution_count": 120,
     "metadata": {},
     "output_type": "execute_result"
    }
   ],
   "source": [
    "random.randint(1,10)"
   ]
  },
  {
   "cell_type": "code",
   "execution_count": 124,
   "metadata": {},
   "outputs": [
    {
     "data": {
      "text/plain": [
       "array([0.47789816, 0.08391206, 0.78847252, 0.32092018, 0.31135173,\n",
       "       0.30108716, 0.46324715, 0.30554912, 0.47291117, 0.65493354])"
      ]
     },
     "execution_count": 124,
     "metadata": {},
     "output_type": "execute_result"
    }
   ],
   "source": [
    "np.random.rand(10)  ## 0 -1 之间,生成10个数"
   ]
  },
  {
   "cell_type": "code",
   "execution_count": 126,
   "metadata": {},
   "outputs": [
    {
     "data": {
      "text/plain": [
       "array([1, 1, 5, 9, 9, 1, 5, 6, 3, 6])"
      ]
     },
     "execution_count": 126,
     "metadata": {},
     "output_type": "execute_result"
    }
   ],
   "source": [
    "np.random.randint(1,10, 10)"
   ]
  },
  {
   "cell_type": "code",
   "execution_count": 127,
   "metadata": {},
   "outputs": [],
   "source": [
    "np.random.choice?"
   ]
  },
  {
   "cell_type": "code",
   "execution_count": 128,
   "metadata": {},
   "outputs": [],
   "source": [
    "np.random.shuffle?"
   ]
  },
  {
   "cell_type": "code",
   "execution_count": 130,
   "metadata": {},
   "outputs": [],
   "source": [
    "a = np.arange(10)"
   ]
  },
  {
   "cell_type": "code",
   "execution_count": 132,
   "metadata": {},
   "outputs": [],
   "source": [
    "li = np.random.shuffle(a)"
   ]
  },
  {
   "cell_type": "code",
   "execution_count": 133,
   "metadata": {},
   "outputs": [
    {
     "data": {
      "text/plain": [
       "array([5, 9, 3, 7, 1, 8, 6, 2, 0, 4])"
      ]
     },
     "execution_count": 133,
     "metadata": {},
     "output_type": "execute_result"
    }
   ],
   "source": [
    "a"
   ]
  },
  {
   "cell_type": "code",
   "execution_count": 134,
   "metadata": {},
   "outputs": [],
   "source": [
    "np.random.uniform?"
   ]
  },
  {
   "cell_type": "code",
   "execution_count": 135,
   "metadata": {},
   "outputs": [
    {
     "data": {
      "text/plain": [
       "array([-5.68799603e-01, -9.80353146e-02, -7.92896173e-01, -4.08402882e-01,\n",
       "       -1.30930227e-01, -5.73777772e-01, -1.04164664e-01, -1.42797227e-01,\n",
       "       -8.03556000e-01, -8.90543043e-01, -6.24499968e-01, -1.21432391e-01,\n",
       "       -8.87867552e-01, -6.43119919e-02, -1.60061733e-01, -5.19232758e-01,\n",
       "       -4.88260322e-01, -2.96147796e-01, -3.93206693e-01, -1.55798538e-02,\n",
       "       -3.71522095e-01, -4.55735077e-01, -2.20783837e-01, -6.95349534e-01,\n",
       "       -7.90678783e-01, -9.39292931e-01, -2.87256974e-01, -7.57542756e-01,\n",
       "       -7.85551958e-01, -3.97675922e-01, -6.41138419e-01, -7.48223416e-01,\n",
       "       -4.35233048e-01, -3.72570270e-01, -9.75964910e-01, -1.88945242e-02,\n",
       "       -2.87413737e-01, -7.98574373e-01, -8.85058825e-02, -6.19877309e-01,\n",
       "       -7.47825047e-01, -5.28101186e-01, -1.01044020e-01, -6.10764019e-01,\n",
       "       -3.70945165e-01, -8.78337067e-01, -2.20079794e-01, -3.04279361e-01,\n",
       "       -7.08817537e-01, -6.08176394e-01, -7.94412299e-01, -7.28042573e-02,\n",
       "       -3.63618866e-01, -5.41314761e-01, -1.99490278e-02, -6.98402031e-01,\n",
       "       -8.58274883e-01, -3.26835438e-01, -7.29127253e-01, -1.20284610e-01,\n",
       "       -1.72246754e-01, -7.19178385e-01, -4.18881495e-01, -9.48167462e-01,\n",
       "       -4.52823865e-01, -6.58934879e-01, -8.32905914e-01, -7.60543499e-01,\n",
       "       -6.74759495e-01, -8.49440692e-01, -6.03952135e-02, -9.07808293e-01,\n",
       "       -9.86482819e-01, -3.37333374e-02, -8.12421462e-01, -3.36633133e-01,\n",
       "       -9.53979615e-02, -3.34605966e-01, -8.52100990e-01, -2.08194692e-01,\n",
       "       -9.92136201e-01, -7.89412849e-01, -8.90191521e-02, -2.36649175e-01,\n",
       "       -4.80707836e-01, -6.76274713e-01, -3.75700285e-01, -6.31060995e-01,\n",
       "       -8.06782007e-01, -5.46616563e-01, -6.59359617e-01, -2.07766836e-01,\n",
       "       -6.27525593e-01, -6.94063683e-01, -7.95239070e-01, -9.49315894e-01,\n",
       "       -8.51251536e-02, -8.53581929e-01, -2.16129168e-01, -9.45062686e-01,\n",
       "       -5.53954596e-01, -6.63274574e-01, -1.88713288e-01, -3.82412217e-01,\n",
       "       -3.68895306e-01, -4.94910102e-01, -5.59234253e-01, -1.99126143e-01,\n",
       "       -1.49665926e-01, -5.84929410e-02, -9.05770491e-01, -7.02831629e-01,\n",
       "       -3.84770245e-02, -3.29313822e-01, -2.18158480e-02, -3.02761424e-02,\n",
       "       -6.40686617e-01, -5.53396514e-01, -9.32362253e-02, -5.01352448e-01,\n",
       "       -7.03945333e-01, -4.68791933e-01, -1.90801903e-01, -9.21647914e-01,\n",
       "       -3.09126785e-01, -9.09528401e-01, -5.15259835e-02, -6.58140710e-01,\n",
       "       -6.98832405e-01, -2.19281338e-01, -2.87945541e-01, -4.54920936e-01,\n",
       "       -6.82455029e-01, -1.17168083e-01, -5.41024291e-01, -4.30258596e-01,\n",
       "       -5.75433699e-01, -6.96526499e-01, -3.19069773e-01, -2.38891245e-02,\n",
       "       -9.19589776e-01, -2.79484946e-01, -2.64199714e-01, -7.24066831e-01,\n",
       "       -3.93436041e-01, -5.01675355e-01, -2.63088074e-01, -9.49076359e-01,\n",
       "       -1.29873232e-01, -6.97869620e-01, -6.60080770e-01, -5.38291666e-01,\n",
       "       -9.13119554e-01, -6.29757819e-01, -5.13741106e-01, -7.25069207e-01,\n",
       "       -3.63894867e-01, -7.03368130e-01, -7.96619996e-01, -4.68106079e-01,\n",
       "       -2.06946604e-01, -2.89434222e-01, -7.20632156e-01, -9.90847531e-01,\n",
       "       -2.79615113e-01, -5.67303319e-01, -1.08241811e-01, -1.94665437e-01,\n",
       "       -1.01311476e-01, -8.21361206e-01, -7.10217330e-01, -1.51387270e-01,\n",
       "       -6.67006209e-01, -3.28087187e-02, -1.53888703e-01, -2.83378059e-01,\n",
       "       -8.23384736e-01, -1.75674438e-01, -9.07276658e-02, -8.87215144e-01,\n",
       "       -5.16384947e-01, -2.43062109e-01, -5.48274551e-01, -2.60090636e-01,\n",
       "       -3.21672892e-01, -7.75822192e-01, -1.67536766e-01, -1.59749162e-02,\n",
       "       -9.65214955e-01, -3.22501313e-01, -5.00278136e-01, -7.67604727e-01,\n",
       "       -9.87638947e-01, -3.56202595e-02, -7.55065601e-01, -5.44540518e-01,\n",
       "       -1.47308838e-01, -3.08226093e-01, -6.55692610e-01, -6.93182447e-01,\n",
       "       -5.27206962e-01, -7.11576255e-01, -5.79213427e-02, -2.31486363e-01,\n",
       "       -8.73793975e-01, -4.72462054e-01, -5.02575816e-01, -7.03316212e-01,\n",
       "       -4.53039971e-01, -1.15522283e-02, -4.20259613e-01, -3.47005555e-01,\n",
       "       -9.85997723e-01, -8.14179420e-01, -2.94879283e-01, -2.69043001e-01,\n",
       "       -2.66282919e-01, -9.24330266e-01, -7.18547511e-02, -7.48644477e-01,\n",
       "       -4.08870890e-01, -9.37326010e-01, -7.30304324e-01, -2.65924548e-01,\n",
       "       -1.71284208e-01, -2.39237909e-01, -4.95759512e-01, -7.17995841e-01,\n",
       "       -4.37260458e-01, -6.66123823e-01, -2.12547147e-01, -9.03538484e-01,\n",
       "       -9.82838438e-01, -4.58585340e-01, -7.24963922e-01, -2.08920197e-02,\n",
       "       -2.41399560e-01, -5.21534109e-01, -4.37465548e-01, -6.59179988e-01,\n",
       "       -4.74974404e-01, -6.29322454e-01, -2.75227254e-01, -7.93959131e-01,\n",
       "       -8.06964295e-01, -1.23893752e-01, -3.26585387e-01, -4.43635058e-01,\n",
       "       -7.47928957e-01, -1.33021716e-02, -9.97875388e-01, -4.88269902e-01,\n",
       "       -9.85324318e-01, -4.88846154e-02, -4.95508334e-01, -3.93855648e-01,\n",
       "       -8.38720354e-01, -3.61615646e-01, -7.74839525e-01, -4.21125316e-01,\n",
       "       -6.60421959e-01, -4.94268582e-01, -8.68038650e-01, -1.14387154e-01,\n",
       "       -8.74024339e-01, -3.87393632e-01, -3.76638747e-01, -5.68982553e-01,\n",
       "       -2.63096297e-01, -9.45508078e-01, -3.69924189e-01, -6.46876520e-01,\n",
       "       -2.57707217e-01, -1.05681865e-01, -7.40636232e-01, -7.26148983e-02,\n",
       "       -2.48390265e-01, -5.01163969e-01, -2.72664691e-01, -1.94951758e-02,\n",
       "       -8.13081208e-01, -6.33816298e-01, -6.57453614e-01, -7.42954072e-01,\n",
       "       -2.82884288e-01, -3.55983785e-01, -5.91944475e-01, -9.53165909e-01,\n",
       "       -1.68310669e-01, -6.77683558e-01, -9.81654550e-01, -7.93187959e-01,\n",
       "       -6.04702824e-01, -7.38149427e-01, -5.23955524e-01, -6.53293217e-01,\n",
       "       -8.33239131e-01, -3.47810984e-01, -9.27402373e-01, -3.56498763e-01,\n",
       "       -1.47112173e-01, -4.07053640e-02, -6.15769187e-02, -3.29851710e-01,\n",
       "       -5.50369191e-01, -6.59083272e-01, -4.92094484e-01, -5.45775917e-01,\n",
       "       -4.15647408e-01, -7.31801402e-01, -8.36498929e-02, -5.41916473e-03,\n",
       "       -7.35053069e-01, -1.58774421e-01, -3.90763135e-01, -7.40245041e-01,\n",
       "       -6.06577361e-01, -5.13531451e-01, -4.46035418e-01, -8.11391072e-01,\n",
       "       -1.86749006e-01, -6.10253638e-01, -1.41963745e-01, -9.40250998e-01,\n",
       "       -3.26959254e-02, -2.28334006e-02, -4.05107372e-01, -6.43202115e-01,\n",
       "       -2.79692440e-01, -6.85483633e-01, -5.29206887e-01, -2.76841464e-01,\n",
       "       -2.68438469e-01, -1.32943428e-01, -4.53776269e-01, -9.88460804e-01,\n",
       "       -8.56930282e-01, -5.01022303e-01, -1.85531467e-01, -9.32594110e-01,\n",
       "       -3.87820932e-01, -3.05148606e-01, -6.35377914e-02, -1.66748482e-01,\n",
       "       -1.97424474e-01, -8.10324855e-01, -9.49690822e-01, -6.82676816e-01,\n",
       "       -9.82768336e-02, -8.97140757e-01, -4.14033674e-01, -8.52924716e-01,\n",
       "       -9.86712615e-01, -4.11065526e-01, -7.05321565e-01, -4.08656273e-01,\n",
       "       -4.65571977e-01, -3.10849120e-01, -4.59739154e-01, -2.94453860e-01,\n",
       "       -9.76833171e-01, -2.72090799e-01, -6.65103543e-01, -1.25933159e-01,\n",
       "       -6.23210516e-01, -4.78923261e-01, -1.51258012e-01, -7.28578810e-02,\n",
       "       -2.49338006e-01, -8.40694234e-01, -4.75970028e-01, -8.12843958e-01,\n",
       "       -3.10008333e-01, -5.43982161e-02, -9.85005958e-02, -9.28430557e-01,\n",
       "       -2.14345766e-01, -8.91465823e-01, -5.52541188e-01, -8.95576955e-01,\n",
       "       -1.45654748e-01, -5.51311339e-01, -3.21880444e-01, -9.77600450e-01,\n",
       "       -6.70318587e-01, -8.41872861e-01, -4.95041576e-01, -5.73636304e-01,\n",
       "       -4.50994503e-01, -1.00371366e-02, -3.81497437e-01, -6.11686284e-02,\n",
       "       -5.20170136e-02, -3.22151518e-01, -3.64809552e-01, -9.58044234e-01,\n",
       "       -1.82633614e-01, -9.00208527e-01, -7.49709640e-01, -6.35779693e-01,\n",
       "       -5.13591324e-01, -7.92863305e-01, -5.77063053e-02, -9.30964847e-02,\n",
       "       -4.17788052e-01, -8.91161868e-01, -1.86379753e-01, -8.72302923e-01,\n",
       "       -6.42633195e-01, -1.08468219e-01, -1.70360542e-01, -7.21082277e-02,\n",
       "       -6.25426654e-01, -2.64750457e-01, -7.94776485e-01, -6.25419726e-01,\n",
       "       -8.46449842e-02, -6.86514424e-02, -6.97528004e-02, -5.09644839e-02,\n",
       "       -9.21158550e-01, -2.07261818e-01, -9.04968610e-01, -3.86201172e-01,\n",
       "       -8.21874747e-02, -6.81761633e-02, -1.35088949e-01, -3.96966246e-01,\n",
       "       -4.35535845e-01, -7.43647176e-01, -7.39621475e-01, -2.15867980e-01,\n",
       "       -1.27704536e-01, -2.87190008e-01, -2.83330300e-01, -2.51002223e-01,\n",
       "       -6.52333060e-01, -5.47527700e-01, -2.72084622e-01, -3.09503641e-01,\n",
       "       -3.07158949e-02, -7.78488762e-01, -8.61663148e-01, -3.37485657e-01,\n",
       "       -2.97770258e-01, -5.05328461e-01, -5.94066905e-01, -3.71789714e-02,\n",
       "       -2.16172111e-01, -7.91669594e-01, -6.39110225e-01, -6.60040674e-01,\n",
       "       -9.14907103e-01, -3.46467898e-01, -4.38494008e-01, -5.10646586e-01,\n",
       "       -9.42564645e-01, -7.23382781e-01, -3.83270786e-01, -9.54527256e-01,\n",
       "       -9.67522934e-01, -1.27669009e-01, -1.88096477e-01, -4.94279090e-01,\n",
       "       -5.78711311e-02, -1.13717576e-01, -1.52472419e-02, -5.01785123e-01,\n",
       "       -1.02854668e-01, -6.66905611e-01, -6.31998943e-01, -3.96704842e-03,\n",
       "       -1.34968112e-01, -6.87234955e-01, -6.70898999e-01, -3.15246841e-01,\n",
       "       -1.44916866e-01, -2.76755152e-02, -7.72752874e-01, -8.20441595e-01,\n",
       "       -8.79098539e-01, -8.22711660e-01, -9.92670923e-02, -8.52272025e-01,\n",
       "       -3.53849541e-01, -6.17162444e-01, -5.00460890e-01, -9.30867704e-01,\n",
       "       -1.56961139e-01, -2.26307216e-01, -2.15022015e-01, -3.76663482e-01,\n",
       "       -8.94586954e-01, -5.12483372e-01, -4.40478281e-01, -1.73616238e-01,\n",
       "       -4.70287279e-02, -9.45190950e-01, -5.77709934e-01, -9.78715760e-01,\n",
       "       -4.05501805e-01, -6.51175918e-01, -5.58213925e-01, -9.21970686e-01,\n",
       "       -3.88474885e-01, -9.58978961e-01, -5.60839591e-02, -4.59512859e-01,\n",
       "       -9.55559054e-01, -1.47799498e-01, -9.92316510e-01, -1.62457082e-01,\n",
       "       -1.73913421e-01, -1.02174631e-01, -3.85053576e-04, -9.60911650e-01,\n",
       "       -1.77567185e-01, -3.49735325e-02, -6.27893188e-01, -1.18923556e-01,\n",
       "       -9.70835035e-01, -2.43901038e-01, -1.13441103e-01, -8.78578496e-01,\n",
       "       -3.19875921e-01, -1.26115345e-01, -7.11667713e-01, -8.83575103e-01,\n",
       "       -3.23397290e-01, -8.78011228e-02, -3.02888092e-01, -2.04520478e-01,\n",
       "       -5.14272200e-01, -8.62314270e-01, -9.66746427e-01, -9.07342102e-01,\n",
       "       -4.82159563e-01, -5.90587137e-01, -2.16335351e-01, -4.60715205e-01,\n",
       "       -2.57141337e-01, -2.37484754e-01, -4.97266404e-01, -9.15334678e-01,\n",
       "       -4.80480874e-01, -3.12147105e-01, -9.07664990e-01, -1.16233128e-01,\n",
       "       -4.64479765e-01, -7.81917427e-01, -7.97263424e-01, -4.92166347e-01,\n",
       "       -1.14371545e-02, -1.30867539e-01, -7.42782533e-01, -5.05023077e-01,\n",
       "       -4.78492060e-01, -9.68182391e-01, -7.42305898e-01, -1.03251230e-01,\n",
       "       -7.14906828e-02, -9.30735378e-01, -9.93393456e-01, -7.28976886e-01,\n",
       "       -1.34999948e-01, -5.44178055e-02, -8.92927690e-01, -7.91382050e-01,\n",
       "       -9.65998664e-01, -4.96327086e-01, -3.02274040e-01, -1.66221924e-01,\n",
       "       -9.14083261e-01, -7.43501547e-01, -2.86069479e-01, -8.41458365e-01,\n",
       "       -2.83762690e-01, -2.84677360e-01, -9.76820041e-01, -6.51910541e-01,\n",
       "       -5.08577715e-01, -8.66889340e-01, -1.08642295e-01, -2.01722760e-01,\n",
       "       -7.52537488e-01, -5.99548859e-01, -1.58007527e-01, -3.52032038e-01,\n",
       "       -3.64509690e-01, -5.98199100e-01, -5.32869187e-01, -3.69917844e-01,\n",
       "       -8.22853238e-01, -9.06576526e-02, -6.42045299e-02, -3.98935369e-01,\n",
       "       -4.46186759e-01, -1.40903045e-01, -1.44473394e-01, -2.96482540e-01,\n",
       "       -1.18068588e-01, -7.72419636e-01, -4.51896898e-01, -5.58076371e-01,\n",
       "       -5.91984256e-01, -1.04290762e-01, -9.63231834e-01, -6.19254726e-02,\n",
       "       -4.28628855e-01, -2.04510147e-01, -2.65629124e-01, -6.57061049e-01,\n",
       "       -3.92776960e-02, -5.60702969e-01, -4.49440024e-02, -1.67374927e-01,\n",
       "       -1.11404138e-01, -7.19447903e-01, -4.88702651e-01, -7.94008828e-01,\n",
       "       -9.65633511e-01, -8.30174508e-01, -8.61893576e-01, -6.02797010e-01,\n",
       "       -1.41119635e-01, -6.49445166e-02, -7.33702756e-02, -4.06964652e-01,\n",
       "       -7.86258467e-01, -6.28069721e-01, -3.24109863e-01, -5.53784143e-01,\n",
       "       -1.38211315e-01, -4.48027533e-01, -4.03041181e-01, -5.46767347e-01,\n",
       "       -4.40999134e-01, -8.95134133e-01, -2.89956809e-01, -1.00133674e-01,\n",
       "       -3.35739424e-01, -7.52637297e-01, -8.29112544e-01, -8.43735180e-01,\n",
       "       -3.70659676e-01, -6.22281155e-01, -7.16243944e-01, -4.30343177e-01,\n",
       "       -2.60385426e-01, -6.06030651e-01, -9.78456066e-01, -1.79393186e-01,\n",
       "       -2.74258572e-01, -4.90911721e-01, -6.23290388e-01, -2.35022571e-02,\n",
       "       -7.47621749e-01, -7.78508129e-01, -9.57859947e-01, -8.73960271e-01,\n",
       "       -2.44112350e-01, -6.93539386e-01, -9.77644309e-01, -5.39165089e-01,\n",
       "       -2.94822506e-01, -7.65076262e-01, -6.25883832e-01, -8.02122360e-01,\n",
       "       -8.00285549e-01, -5.38041751e-01, -2.90723475e-01, -2.38651653e-01,\n",
       "       -8.95603807e-01, -3.73720383e-01, -5.77789584e-01, -8.61249824e-01,\n",
       "       -8.69995283e-01, -3.19430717e-01, -5.11910429e-01, -7.81456034e-01,\n",
       "       -9.50459642e-01, -8.45083606e-01, -4.50286930e-01, -8.27187770e-01,\n",
       "       -9.41298116e-01, -3.99292991e-01, -7.76662105e-01, -7.23048656e-02,\n",
       "       -7.23301943e-02, -4.91338861e-01, -7.23524180e-01, -4.60198717e-01,\n",
       "       -3.60554756e-01, -7.72375626e-01, -3.95342939e-01, -2.31277880e-01,\n",
       "       -3.43717941e-01, -2.07784257e-01, -3.52229454e-01, -5.26341632e-01,\n",
       "       -8.40896426e-01, -3.56228650e-01, -3.96868667e-01, -9.77198731e-01,\n",
       "       -6.48946267e-01, -2.60440473e-02, -4.53723457e-01, -4.84839701e-01,\n",
       "       -3.14917334e-01, -6.96067344e-01, -1.24082623e-01, -4.48975178e-01,\n",
       "       -1.18368093e-01, -1.17322498e-01, -9.15571875e-01, -1.94787879e-01,\n",
       "       -7.94923780e-01, -4.91392488e-01, -6.01471560e-01, -3.63431082e-01,\n",
       "       -2.68989997e-02, -9.34357310e-03, -4.93073092e-01, -1.72019395e-02,\n",
       "       -2.30999730e-01, -9.17420932e-01, -6.29342570e-01, -1.08977032e-01,\n",
       "       -8.96358834e-01, -4.62443331e-01, -2.97442096e-01, -6.31171064e-01,\n",
       "       -9.52846634e-01, -7.60814065e-01, -7.85503681e-01, -8.65991067e-01,\n",
       "       -4.00526134e-01, -5.93406649e-01, -1.58919394e-01, -5.29099129e-01,\n",
       "       -8.79457010e-01, -5.89491192e-01, -7.47994076e-03, -1.43620324e-01,\n",
       "       -3.08052807e-01, -4.55324417e-02, -6.53908816e-01, -8.72850456e-01,\n",
       "       -8.75181481e-01, -6.41720663e-01, -9.26752037e-01, -5.90344236e-01,\n",
       "       -8.32194772e-01, -5.23355251e-01, -2.83905690e-01, -7.14866483e-01,\n",
       "       -8.70377953e-01, -1.54873806e-01, -1.98497831e-01, -3.22546281e-01,\n",
       "       -2.13749712e-01, -6.98851561e-01, -7.37604014e-01, -6.82052449e-02,\n",
       "       -5.68374853e-01, -7.58639114e-01, -9.88028762e-01, -7.42361057e-01,\n",
       "       -8.02219130e-01, -3.46119541e-01, -9.41911061e-01, -6.92348887e-01,\n",
       "       -3.18650298e-01, -9.44057713e-01, -2.09126874e-01, -8.98532663e-01,\n",
       "       -9.37838404e-01, -8.03241151e-01, -1.01450787e-01, -9.70227515e-01,\n",
       "       -2.98195420e-01, -8.10482039e-01, -3.37604689e-01, -3.05448210e-01,\n",
       "       -1.09223267e-01, -3.81325486e-01, -5.21751277e-01, -3.90438024e-01,\n",
       "       -4.26166901e-01, -7.42088944e-01, -8.21963908e-01, -4.35570550e-02,\n",
       "       -6.53030223e-01, -2.50810489e-01, -8.92329872e-01, -5.14796858e-01,\n",
       "       -9.51340130e-01, -7.51779076e-01, -8.21592713e-02, -7.22166938e-01,\n",
       "       -4.03423286e-01, -1.87947954e-01, -9.69155003e-01, -9.76551187e-01,\n",
       "       -1.86068312e-01, -8.35726873e-01, -9.36191259e-01, -2.39706813e-01,\n",
       "       -2.18378151e-01, -4.65277312e-01, -8.37885346e-01, -4.32526347e-01,\n",
       "       -3.91857596e-01, -1.32283633e-01, -2.89295828e-01, -4.59679846e-01,\n",
       "       -1.44139671e-01, -5.11768840e-01, -6.02659234e-02, -3.01064424e-01,\n",
       "       -2.51088172e-02, -7.19558155e-01, -6.62505261e-01, -4.53199969e-01,\n",
       "       -3.83715193e-01, -4.25578469e-01, -3.62407159e-02, -7.78718225e-01,\n",
       "       -7.81340514e-01, -5.87244555e-01, -2.14536769e-01, -2.21608756e-01,\n",
       "       -1.33113476e-01, -2.39776921e-01, -6.11550465e-01, -5.31548981e-01,\n",
       "       -2.55586880e-01, -5.68775685e-01, -6.78715334e-01, -7.57489495e-01,\n",
       "       -7.24321983e-01, -7.86108097e-01, -7.75128024e-01, -1.00729991e-01,\n",
       "       -4.61385372e-01, -7.71202334e-01, -1.90667187e-01, -3.70228992e-01,\n",
       "       -8.26856182e-01, -4.68598827e-01, -1.38706966e-01, -1.13229392e-01,\n",
       "       -2.59030582e-02, -9.40183890e-01, -4.26624234e-02, -4.36716943e-01,\n",
       "       -8.11935022e-01, -1.25411671e-01, -4.95014715e-01, -1.51025944e-01,\n",
       "       -8.50450639e-01, -9.75994483e-01, -1.55787846e-01, -1.00835775e-01,\n",
       "       -2.18004199e-01, -5.88695593e-01, -6.72683291e-01, -6.10170191e-01,\n",
       "       -6.61819889e-01, -9.28787804e-01, -2.34464119e-01, -5.59792129e-01,\n",
       "       -1.80011528e-01, -2.01124977e-01, -7.00998995e-01, -7.12517275e-01,\n",
       "       -3.72927384e-01, -1.33425258e-01, -8.09397197e-02, -6.02860492e-01,\n",
       "       -6.14998211e-02, -4.85832830e-01, -7.12037857e-01, -9.97559570e-01,\n",
       "       -7.54128118e-02, -1.02775163e-04, -6.63611360e-01, -7.17120086e-01,\n",
       "       -7.42052821e-01, -1.53873791e-02, -5.59336442e-01, -4.85417653e-01,\n",
       "       -2.76201468e-01, -3.37084217e-01, -4.24737299e-01, -5.43687826e-01,\n",
       "       -3.04343313e-01, -5.78102152e-01, -7.71316419e-01, -8.10326085e-01,\n",
       "       -2.34912661e-02, -2.29011745e-03, -1.31228431e-01, -5.67205688e-01,\n",
       "       -3.11938657e-01, -6.81554033e-01, -1.07540979e-01, -3.28617590e-01,\n",
       "       -8.18409910e-02, -6.31644406e-01, -1.07352564e-01, -1.24545033e-01,\n",
       "       -2.23683931e-01, -3.87136712e-01, -7.69849106e-01, -1.26667332e-02,\n",
       "       -7.15281592e-01, -4.54090914e-01, -1.35397880e-01, -1.63972905e-01,\n",
       "       -9.91456301e-01, -6.84314011e-01, -5.21315047e-01, -7.34892374e-01,\n",
       "       -7.69705367e-01, -4.10082376e-01, -8.02036104e-01, -1.95119617e-01,\n",
       "       -2.60381359e-01, -1.58917366e-02, -8.89670021e-01, -6.34519110e-01,\n",
       "       -9.82244199e-01, -2.25311552e-01, -8.80720836e-01, -1.04138876e-01,\n",
       "       -6.67641096e-01, -1.06087976e-01, -3.06875067e-01, -9.26130913e-01,\n",
       "       -7.36705332e-01, -7.39923259e-01, -3.89691438e-02, -6.44024306e-01,\n",
       "       -2.79877028e-02, -4.30152012e-01, -5.97698445e-01, -8.44770579e-01,\n",
       "       -4.18047523e-01, -3.54364665e-01, -3.69503071e-01, -9.95075044e-01,\n",
       "       -8.56843598e-01, -8.83913864e-01, -3.20469310e-01, -6.35478661e-01,\n",
       "       -3.81399638e-01, -8.93501597e-01, -4.30829192e-01, -9.85585738e-01,\n",
       "       -6.43919289e-01, -1.31945746e-01, -9.42488028e-01, -2.84996297e-01,\n",
       "       -3.13323625e-01, -7.48408420e-01, -3.38292463e-01, -4.34873417e-01,\n",
       "       -7.80639398e-02, -7.87521963e-01, -1.87344380e-01, -5.82781078e-02,\n",
       "       -2.41380936e-01, -8.20426743e-01, -2.23992185e-02, -7.66332622e-01,\n",
       "       -7.11495843e-01, -1.08679810e-01, -6.75556921e-01, -1.60054335e-01,\n",
       "       -6.67909566e-01, -5.52338046e-01, -3.08638418e-01, -8.68062794e-01,\n",
       "       -6.74032272e-01, -6.67188508e-01, -6.64298475e-01, -3.50769052e-02,\n",
       "       -5.03661547e-01, -3.73977342e-01, -6.95547081e-01, -3.82502267e-01,\n",
       "       -5.21704982e-01, -9.44596105e-01, -7.44450936e-01, -2.52830634e-01,\n",
       "       -1.66099333e-01, -2.56920944e-02, -3.16882926e-01, -2.31151021e-01])"
      ]
     },
     "execution_count": 135,
     "metadata": {},
     "output_type": "execute_result"
    }
   ],
   "source": [
    "s = np.random.uniform(-1,0,1000)\n",
    "s"
   ]
  },
  {
   "cell_type": "code",
   "execution_count": null,
   "metadata": {},
   "outputs": [],
   "source": []
  }
 ],
 "metadata": {
  "kernelspec": {
   "display_name": "Python 3",
   "language": "python",
   "name": "python3"
  },
  "language_info": {
   "codemirror_mode": {
    "name": "ipython",
    "version": 3
   },
   "file_extension": ".py",
   "mimetype": "text/x-python",
   "name": "python",
   "nbconvert_exporter": "python",
   "pygments_lexer": "ipython3",
   "version": "3.7.3"
  }
 },
 "nbformat": 4,
 "nbformat_minor": 2
}
