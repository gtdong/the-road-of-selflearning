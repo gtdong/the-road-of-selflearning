{
 "cells": [
  {
   "cell_type": "code",
   "execution_count": 3,
   "metadata": {},
   "outputs": [],
   "source": [
    "import pandas as pd\n",
    "import numpy as np"
   ]
  },
  {
   "cell_type": "code",
   "execution_count": 7,
   "metadata": {},
   "outputs": [],
   "source": [
    "sr = pd.Series([1,2,3,4,5,6], index=['a', 'b', 'c', 'd', 'e', 'f'])"
   ]
  },
  {
   "cell_type": "code",
   "execution_count": 8,
   "metadata": {},
   "outputs": [
    {
     "data": {
      "text/plain": [
       "a    1\n",
       "b    2\n",
       "c    3\n",
       "d    4\n",
       "e    5\n",
       "f    6\n",
       "dtype: int64"
      ]
     },
     "execution_count": 8,
     "metadata": {},
     "output_type": "execute_result"
    }
   ],
   "source": [
    "sr"
   ]
  },
  {
   "cell_type": "code",
   "execution_count": 9,
   "metadata": {},
   "outputs": [
    {
     "data": {
      "text/plain": [
       "1"
      ]
     },
     "execution_count": 9,
     "metadata": {},
     "output_type": "execute_result"
    }
   ],
   "source": [
    "sr['a']"
   ]
  },
  {
   "cell_type": "code",
   "execution_count": 10,
   "metadata": {},
   "outputs": [
    {
     "data": {
      "text/plain": [
       "1"
      ]
     },
     "execution_count": 10,
     "metadata": {},
     "output_type": "execute_result"
    }
   ],
   "source": [
    "sr[0]"
   ]
  },
  {
   "cell_type": "code",
   "execution_count": 11,
   "metadata": {},
   "outputs": [
    {
     "data": {
      "text/plain": [
       "a    1\n",
       "b    2\n",
       "dtype: int64"
      ]
     },
     "execution_count": 11,
     "metadata": {},
     "output_type": "execute_result"
    }
   ],
   "source": [
    "pd.Series({'a':1, 'b':2})"
   ]
  },
  {
   "cell_type": "code",
   "execution_count": 13,
   "metadata": {},
   "outputs": [
    {
     "data": {
      "text/plain": [
       "a    0\n",
       "b    0\n",
       "c    0\n",
       "d    0\n",
       "dtype: int64"
      ]
     },
     "execution_count": 13,
     "metadata": {},
     "output_type": "execute_result"
    }
   ],
   "source": [
    "pd.Series(0, index=['a', 'b', 'c', 'd'])"
   ]
  },
  {
   "cell_type": "code",
   "execution_count": 14,
   "metadata": {},
   "outputs": [
    {
     "data": {
      "text/plain": [
       "a    1\n",
       "b    2\n",
       "c    3\n",
       "d    4\n",
       "e    5\n",
       "f    6\n",
       "dtype: int64"
      ]
     },
     "execution_count": 14,
     "metadata": {},
     "output_type": "execute_result"
    }
   ],
   "source": [
    "sr"
   ]
  },
  {
   "cell_type": "code",
   "execution_count": 15,
   "metadata": {},
   "outputs": [
    {
     "data": {
      "text/plain": [
       "Index(['a', 'b', 'c', 'd', 'e', 'f'], dtype='object')"
      ]
     },
     "execution_count": 15,
     "metadata": {},
     "output_type": "execute_result"
    }
   ],
   "source": [
    "sr.index"
   ]
  },
  {
   "cell_type": "code",
   "execution_count": 16,
   "metadata": {},
   "outputs": [
    {
     "data": {
      "text/plain": [
       "array([1, 2, 3, 4, 5, 6], dtype=int64)"
      ]
     },
     "execution_count": 16,
     "metadata": {},
     "output_type": "execute_result"
    }
   ],
   "source": [
    "sr.values"
   ]
  },
  {
   "cell_type": "code",
   "execution_count": 17,
   "metadata": {},
   "outputs": [
    {
     "data": {
      "text/plain": [
       "a    1\n",
       "b    2\n",
       "c    3\n",
       "d    4\n",
       "e    5\n",
       "f    6\n",
       "dtype: int64"
      ]
     },
     "execution_count": 17,
     "metadata": {},
     "output_type": "execute_result"
    }
   ],
   "source": [
    "sr"
   ]
  },
  {
   "cell_type": "code",
   "execution_count": 18,
   "metadata": {},
   "outputs": [
    {
     "data": {
      "text/plain": [
       "a     2\n",
       "b     4\n",
       "c     6\n",
       "d     8\n",
       "e    10\n",
       "f    12\n",
       "dtype: int64"
      ]
     },
     "execution_count": 18,
     "metadata": {},
     "output_type": "execute_result"
    }
   ],
   "source": [
    "sr * 2"
   ]
  },
  {
   "cell_type": "code",
   "execution_count": 19,
   "metadata": {},
   "outputs": [
    {
     "data": {
      "text/plain": [
       "b    2\n",
       "c    3\n",
       "e    5\n",
       "dtype: int64"
      ]
     },
     "execution_count": 19,
     "metadata": {},
     "output_type": "execute_result"
    }
   ],
   "source": [
    "sr[[1,2,4]]"
   ]
  },
  {
   "cell_type": "code",
   "execution_count": 20,
   "metadata": {},
   "outputs": [
    {
     "data": {
      "text/plain": [
       "a    False\n",
       "b    False\n",
       "c    False\n",
       "d    False\n",
       "e     True\n",
       "f     True\n",
       "dtype: bool"
      ]
     },
     "execution_count": 20,
     "metadata": {},
     "output_type": "execute_result"
    }
   ],
   "source": [
    "sr > 4"
   ]
  },
  {
   "cell_type": "code",
   "execution_count": 21,
   "metadata": {},
   "outputs": [
    {
     "data": {
      "text/plain": [
       "e    5\n",
       "f    6\n",
       "dtype: int64"
      ]
     },
     "execution_count": 21,
     "metadata": {},
     "output_type": "execute_result"
    }
   ],
   "source": [
    "sr[sr>4]"
   ]
  },
  {
   "cell_type": "code",
   "execution_count": 22,
   "metadata": {},
   "outputs": [
    {
     "data": {
      "text/plain": [
       "a    1\n",
       "b    2\n",
       "c    3\n",
       "d    4\n",
       "e    5\n",
       "f    6\n",
       "dtype: int64"
      ]
     },
     "execution_count": 22,
     "metadata": {},
     "output_type": "execute_result"
    }
   ],
   "source": [
    "sr"
   ]
  },
  {
   "cell_type": "code",
   "execution_count": 25,
   "metadata": {},
   "outputs": [
    {
     "data": {
      "text/plain": [
       "True"
      ]
     },
     "execution_count": 25,
     "metadata": {},
     "output_type": "execute_result"
    }
   ],
   "source": [
    "2 in sr.values    "
   ]
  },
  {
   "cell_type": "code",
   "execution_count": 28,
   "metadata": {},
   "outputs": [],
   "source": [
    "sr1 = pd.Series([11,22,33], index=['a', 'b', 'c'])\n",
    "sr2 = pd.Series([44,55,66], index=['b', 'a', 'c'])"
   ]
  },
  {
   "cell_type": "code",
   "execution_count": 29,
   "metadata": {},
   "outputs": [
    {
     "data": {
      "text/plain": [
       "a    11\n",
       "b    22\n",
       "c    33\n",
       "dtype: int64"
      ]
     },
     "execution_count": 29,
     "metadata": {},
     "output_type": "execute_result"
    }
   ],
   "source": [
    "sr1"
   ]
  },
  {
   "cell_type": "code",
   "execution_count": 30,
   "metadata": {},
   "outputs": [
    {
     "data": {
      "text/plain": [
       "b    44\n",
       "a    55\n",
       "c    66\n",
       "dtype: int64"
      ]
     },
     "execution_count": 30,
     "metadata": {},
     "output_type": "execute_result"
    }
   ],
   "source": [
    "sr2"
   ]
  },
  {
   "cell_type": "code",
   "execution_count": 31,
   "metadata": {},
   "outputs": [
    {
     "data": {
      "text/plain": [
       "a    66\n",
       "b    66\n",
       "c    99\n",
       "dtype: int64"
      ]
     },
     "execution_count": 31,
     "metadata": {},
     "output_type": "execute_result"
    }
   ],
   "source": [
    "sr1 + sr2"
   ]
  },
  {
   "cell_type": "code",
   "execution_count": 32,
   "metadata": {},
   "outputs": [],
   "source": [
    "sr1 = pd.Series([11,22,33], index=['a', 'b', 'c'])\n",
    "sr2 = pd.Series([44,55,66], index=['b', 'a', 'd'])"
   ]
  },
  {
   "cell_type": "code",
   "execution_count": 33,
   "metadata": {},
   "outputs": [
    {
     "data": {
      "text/plain": [
       "a    11\n",
       "b    22\n",
       "c    33\n",
       "dtype: int64"
      ]
     },
     "execution_count": 33,
     "metadata": {},
     "output_type": "execute_result"
    }
   ],
   "source": [
    "sr1"
   ]
  },
  {
   "cell_type": "code",
   "execution_count": 34,
   "metadata": {},
   "outputs": [
    {
     "data": {
      "text/plain": [
       "b    44\n",
       "a    55\n",
       "d    66\n",
       "dtype: int64"
      ]
     },
     "execution_count": 34,
     "metadata": {},
     "output_type": "execute_result"
    }
   ],
   "source": [
    "sr2"
   ]
  },
  {
   "cell_type": "code",
   "execution_count": 36,
   "metadata": {},
   "outputs": [],
   "source": [
    "sr3 = sr1 + sr2"
   ]
  },
  {
   "cell_type": "code",
   "execution_count": 37,
   "metadata": {},
   "outputs": [
    {
     "data": {
      "text/plain": [
       "a    66.0\n",
       "b    66.0\n",
       "c     NaN\n",
       "d     NaN\n",
       "dtype: float64"
      ]
     },
     "execution_count": 37,
     "metadata": {},
     "output_type": "execute_result"
    }
   ],
   "source": [
    "sr3"
   ]
  },
  {
   "cell_type": "code",
   "execution_count": 38,
   "metadata": {},
   "outputs": [
    {
     "data": {
      "text/plain": [
       "a    66.0\n",
       "b    66.0\n",
       "dtype: float64"
      ]
     },
     "execution_count": 38,
     "metadata": {},
     "output_type": "execute_result"
    }
   ],
   "source": [
    "sr3.dropna()"
   ]
  },
  {
   "cell_type": "code",
   "execution_count": 40,
   "metadata": {},
   "outputs": [
    {
     "data": {
      "text/plain": [
       "a    66.0\n",
       "b    66.0\n",
       "c     0.0\n",
       "d     0.0\n",
       "dtype: float64"
      ]
     },
     "execution_count": 40,
     "metadata": {},
     "output_type": "execute_result"
    }
   ],
   "source": [
    "sr3.fillna(0)"
   ]
  },
  {
   "cell_type": "code",
   "execution_count": 41,
   "metadata": {},
   "outputs": [
    {
     "data": {
      "text/plain": [
       "a    False\n",
       "b    False\n",
       "c     True\n",
       "d     True\n",
       "dtype: bool"
      ]
     },
     "execution_count": 41,
     "metadata": {},
     "output_type": "execute_result"
    }
   ],
   "source": [
    "sr3.isnull()"
   ]
  },
  {
   "cell_type": "code",
   "execution_count": 45,
   "metadata": {},
   "outputs": [],
   "source": [
    "sr3.dropna(inplace=True)"
   ]
  },
  {
   "cell_type": "code",
   "execution_count": 46,
   "metadata": {},
   "outputs": [
    {
     "data": {
      "text/plain": [
       "a    66.0\n",
       "b    66.0\n",
       "dtype: float64"
      ]
     },
     "execution_count": 46,
     "metadata": {},
     "output_type": "execute_result"
    }
   ],
   "source": [
    "sr3"
   ]
  },
  {
   "cell_type": "markdown",
   "metadata": {},
   "source": [
    "## pandas DataFrame的用法"
   ]
  },
  {
   "cell_type": "code",
   "execution_count": 152,
   "metadata": {},
   "outputs": [
    {
     "data": {
      "text/html": [
       "<div>\n",
       "<style scoped>\n",
       "    .dataframe tbody tr th:only-of-type {\n",
       "        vertical-align: middle;\n",
       "    }\n",
       "\n",
       "    .dataframe tbody tr th {\n",
       "        vertical-align: top;\n",
       "    }\n",
       "\n",
       "    .dataframe thead th {\n",
       "        text-align: right;\n",
       "    }\n",
       "</style>\n",
       "<table border=\"1\" class=\"dataframe\">\n",
       "  <thead>\n",
       "    <tr style=\"text-align: right;\">\n",
       "      <th></th>\n",
       "      <th>one</th>\n",
       "      <th>two</th>\n",
       "    </tr>\n",
       "  </thead>\n",
       "  <tbody>\n",
       "    <tr>\n",
       "      <th>0</th>\n",
       "      <td>1</td>\n",
       "      <td>4</td>\n",
       "    </tr>\n",
       "    <tr>\n",
       "      <th>1</th>\n",
       "      <td>2</td>\n",
       "      <td>3</td>\n",
       "    </tr>\n",
       "    <tr>\n",
       "      <th>2</th>\n",
       "      <td>3</td>\n",
       "      <td>2</td>\n",
       "    </tr>\n",
       "    <tr>\n",
       "      <th>3</th>\n",
       "      <td>4</td>\n",
       "      <td>1</td>\n",
       "    </tr>\n",
       "  </tbody>\n",
       "</table>\n",
       "</div>"
      ],
      "text/plain": [
       "   one  two\n",
       "0    1    4\n",
       "1    2    3\n",
       "2    3    2\n",
       "3    4    1"
      ]
     },
     "execution_count": 152,
     "metadata": {},
     "output_type": "execute_result"
    }
   ],
   "source": [
    "df = pd.DataFrame({'one':[1,2,3,4], 'two':[4,3,2,1]})\n",
    "df"
   ]
  },
  {
   "cell_type": "code",
   "execution_count": 158,
   "metadata": {},
   "outputs": [
    {
     "data": {
      "text/plain": [
       "0    5\n",
       "1    5\n",
       "2    5\n",
       "3    5\n",
       "dtype: int64"
      ]
     },
     "execution_count": 158,
     "metadata": {},
     "output_type": "execute_result"
    }
   ],
   "source": [
    "df.sum(axis=1)"
   ]
  },
  {
   "cell_type": "code",
   "execution_count": 161,
   "metadata": {},
   "outputs": [
    {
     "data": {
      "text/html": [
       "<div>\n",
       "<style scoped>\n",
       "    .dataframe tbody tr th:only-of-type {\n",
       "        vertical-align: middle;\n",
       "    }\n",
       "\n",
       "    .dataframe tbody tr th {\n",
       "        vertical-align: top;\n",
       "    }\n",
       "\n",
       "    .dataframe thead th {\n",
       "        text-align: right;\n",
       "    }\n",
       "</style>\n",
       "<table border=\"1\" class=\"dataframe\">\n",
       "  <thead>\n",
       "    <tr style=\"text-align: right;\">\n",
       "      <th></th>\n",
       "      <th>one</th>\n",
       "      <th>two</th>\n",
       "    </tr>\n",
       "  </thead>\n",
       "  <tbody>\n",
       "    <tr>\n",
       "      <th>3</th>\n",
       "      <td>4</td>\n",
       "      <td>1</td>\n",
       "    </tr>\n",
       "    <tr>\n",
       "      <th>2</th>\n",
       "      <td>3</td>\n",
       "      <td>2</td>\n",
       "    </tr>\n",
       "    <tr>\n",
       "      <th>1</th>\n",
       "      <td>2</td>\n",
       "      <td>3</td>\n",
       "    </tr>\n",
       "    <tr>\n",
       "      <th>0</th>\n",
       "      <td>1</td>\n",
       "      <td>4</td>\n",
       "    </tr>\n",
       "  </tbody>\n",
       "</table>\n",
       "</div>"
      ],
      "text/plain": [
       "   one  two\n",
       "3    4    1\n",
       "2    3    2\n",
       "1    2    3\n",
       "0    1    4"
      ]
     },
     "execution_count": 161,
     "metadata": {},
     "output_type": "execute_result"
    }
   ],
   "source": [
    "df.sort_index(ascending=False)"
   ]
  },
  {
   "cell_type": "code",
   "execution_count": 165,
   "metadata": {},
   "outputs": [
    {
     "data": {
      "text/html": [
       "<div>\n",
       "<style scoped>\n",
       "    .dataframe tbody tr th:only-of-type {\n",
       "        vertical-align: middle;\n",
       "    }\n",
       "\n",
       "    .dataframe tbody tr th {\n",
       "        vertical-align: top;\n",
       "    }\n",
       "\n",
       "    .dataframe thead th {\n",
       "        text-align: right;\n",
       "    }\n",
       "</style>\n",
       "<table border=\"1\" class=\"dataframe\">\n",
       "  <thead>\n",
       "    <tr style=\"text-align: right;\">\n",
       "      <th></th>\n",
       "      <th>col1</th>\n",
       "      <th>col2</th>\n",
       "      <th>col3</th>\n",
       "    </tr>\n",
       "  </thead>\n",
       "  <tbody>\n",
       "    <tr>\n",
       "      <th>0</th>\n",
       "      <td>A</td>\n",
       "      <td>2</td>\n",
       "      <td>0</td>\n",
       "    </tr>\n",
       "    <tr>\n",
       "      <th>1</th>\n",
       "      <td>A</td>\n",
       "      <td>1</td>\n",
       "      <td>1</td>\n",
       "    </tr>\n",
       "    <tr>\n",
       "      <th>2</th>\n",
       "      <td>B</td>\n",
       "      <td>9</td>\n",
       "      <td>9</td>\n",
       "    </tr>\n",
       "    <tr>\n",
       "      <th>3</th>\n",
       "      <td>NaN</td>\n",
       "      <td>8</td>\n",
       "      <td>4</td>\n",
       "    </tr>\n",
       "    <tr>\n",
       "      <th>4</th>\n",
       "      <td>D</td>\n",
       "      <td>7</td>\n",
       "      <td>2</td>\n",
       "    </tr>\n",
       "    <tr>\n",
       "      <th>5</th>\n",
       "      <td>C</td>\n",
       "      <td>4</td>\n",
       "      <td>3</td>\n",
       "    </tr>\n",
       "  </tbody>\n",
       "</table>\n",
       "</div>"
      ],
      "text/plain": [
       "  col1  col2  col3\n",
       "0    A     2     0\n",
       "1    A     1     1\n",
       "2    B     9     9\n",
       "3  NaN     8     4\n",
       "4    D     7     2\n",
       "5    C     4     3"
      ]
     },
     "execution_count": 165,
     "metadata": {},
     "output_type": "execute_result"
    }
   ],
   "source": [
    "df = pd.DataFrame({\n",
    "    'col1' : ['A', 'A', 'B', np.nan, 'D', 'C'],\n",
    "    'col2' : [2, 1, 9, 8, 7, 4],\n",
    "    'col3': [0, 1, 9, 4, 2, 3],\n",
    "})\n",
    "df"
   ]
  },
  {
   "cell_type": "code",
   "execution_count": 167,
   "metadata": {},
   "outputs": [
    {
     "data": {
      "text/html": [
       "<div>\n",
       "<style scoped>\n",
       "    .dataframe tbody tr th:only-of-type {\n",
       "        vertical-align: middle;\n",
       "    }\n",
       "\n",
       "    .dataframe tbody tr th {\n",
       "        vertical-align: top;\n",
       "    }\n",
       "\n",
       "    .dataframe thead th {\n",
       "        text-align: right;\n",
       "    }\n",
       "</style>\n",
       "<table border=\"1\" class=\"dataframe\">\n",
       "  <thead>\n",
       "    <tr style=\"text-align: right;\">\n",
       "      <th></th>\n",
       "      <th>col1</th>\n",
       "      <th>col2</th>\n",
       "      <th>col3</th>\n",
       "    </tr>\n",
       "  </thead>\n",
       "  <tbody>\n",
       "    <tr>\n",
       "      <th>1</th>\n",
       "      <td>A</td>\n",
       "      <td>1</td>\n",
       "      <td>1</td>\n",
       "    </tr>\n",
       "    <tr>\n",
       "      <th>0</th>\n",
       "      <td>A</td>\n",
       "      <td>2</td>\n",
       "      <td>0</td>\n",
       "    </tr>\n",
       "    <tr>\n",
       "      <th>2</th>\n",
       "      <td>B</td>\n",
       "      <td>9</td>\n",
       "      <td>9</td>\n",
       "    </tr>\n",
       "    <tr>\n",
       "      <th>5</th>\n",
       "      <td>C</td>\n",
       "      <td>4</td>\n",
       "      <td>3</td>\n",
       "    </tr>\n",
       "    <tr>\n",
       "      <th>4</th>\n",
       "      <td>D</td>\n",
       "      <td>7</td>\n",
       "      <td>2</td>\n",
       "    </tr>\n",
       "    <tr>\n",
       "      <th>3</th>\n",
       "      <td>NaN</td>\n",
       "      <td>8</td>\n",
       "      <td>4</td>\n",
       "    </tr>\n",
       "  </tbody>\n",
       "</table>\n",
       "</div>"
      ],
      "text/plain": [
       "  col1  col2  col3\n",
       "1    A     1     1\n",
       "0    A     2     0\n",
       "2    B     9     9\n",
       "5    C     4     3\n",
       "4    D     7     2\n",
       "3  NaN     8     4"
      ]
     },
     "execution_count": 167,
     "metadata": {},
     "output_type": "execute_result"
    }
   ],
   "source": [
    "df.sort_values(by=['col1', 'col2'])"
   ]
  },
  {
   "cell_type": "code",
   "execution_count": 91,
   "metadata": {},
   "outputs": [
    {
     "data": {
      "text/html": [
       "<div>\n",
       "<style scoped>\n",
       "    .dataframe tbody tr th:only-of-type {\n",
       "        vertical-align: middle;\n",
       "    }\n",
       "\n",
       "    .dataframe tbody tr th {\n",
       "        vertical-align: top;\n",
       "    }\n",
       "\n",
       "    .dataframe thead th {\n",
       "        text-align: right;\n",
       "    }\n",
       "</style>\n",
       "<table border=\"1\" class=\"dataframe\">\n",
       "  <thead>\n",
       "    <tr style=\"text-align: right;\">\n",
       "      <th></th>\n",
       "      <th>0</th>\n",
       "      <th>1</th>\n",
       "      <th>2</th>\n",
       "      <th>3</th>\n",
       "    </tr>\n",
       "  </thead>\n",
       "  <tbody>\n",
       "    <tr>\n",
       "      <th>0</th>\n",
       "      <td>1</td>\n",
       "      <td>2</td>\n",
       "      <td>3</td>\n",
       "      <td>4</td>\n",
       "    </tr>\n",
       "    <tr>\n",
       "      <th>1</th>\n",
       "      <td>4</td>\n",
       "      <td>3</td>\n",
       "      <td>2</td>\n",
       "      <td>1</td>\n",
       "    </tr>\n",
       "  </tbody>\n",
       "</table>\n",
       "</div>"
      ],
      "text/plain": [
       "   0  1  2  3\n",
       "0  1  2  3  4\n",
       "1  4  3  2  1"
      ]
     },
     "execution_count": 91,
     "metadata": {},
     "output_type": "execute_result"
    }
   ],
   "source": [
    "df = pd.DataFrame([[1,2,3,4], [4,3,2,1]])\n",
    "df"
   ]
  },
  {
   "cell_type": "code",
   "execution_count": 90,
   "metadata": {},
   "outputs": [
    {
     "data": {
      "text/html": [
       "<div>\n",
       "<style scoped>\n",
       "    .dataframe tbody tr th:only-of-type {\n",
       "        vertical-align: middle;\n",
       "    }\n",
       "\n",
       "    .dataframe tbody tr th {\n",
       "        vertical-align: top;\n",
       "    }\n",
       "\n",
       "    .dataframe thead th {\n",
       "        text-align: right;\n",
       "    }\n",
       "</style>\n",
       "<table border=\"1\" class=\"dataframe\">\n",
       "  <thead>\n",
       "    <tr style=\"text-align: right;\">\n",
       "      <th></th>\n",
       "      <th>0</th>\n",
       "      <th>1</th>\n",
       "      <th>2</th>\n",
       "      <th>3</th>\n",
       "    </tr>\n",
       "  </thead>\n",
       "  <tbody>\n",
       "    <tr>\n",
       "      <th>count</th>\n",
       "      <td>2.00000</td>\n",
       "      <td>2.000000</td>\n",
       "      <td>2.000000</td>\n",
       "      <td>2.00000</td>\n",
       "    </tr>\n",
       "    <tr>\n",
       "      <th>mean</th>\n",
       "      <td>2.50000</td>\n",
       "      <td>2.500000</td>\n",
       "      <td>2.500000</td>\n",
       "      <td>2.50000</td>\n",
       "    </tr>\n",
       "    <tr>\n",
       "      <th>std</th>\n",
       "      <td>2.12132</td>\n",
       "      <td>0.707107</td>\n",
       "      <td>0.707107</td>\n",
       "      <td>2.12132</td>\n",
       "    </tr>\n",
       "    <tr>\n",
       "      <th>min</th>\n",
       "      <td>1.00000</td>\n",
       "      <td>2.000000</td>\n",
       "      <td>2.000000</td>\n",
       "      <td>1.00000</td>\n",
       "    </tr>\n",
       "    <tr>\n",
       "      <th>25%</th>\n",
       "      <td>1.75000</td>\n",
       "      <td>2.250000</td>\n",
       "      <td>2.250000</td>\n",
       "      <td>1.75000</td>\n",
       "    </tr>\n",
       "    <tr>\n",
       "      <th>50%</th>\n",
       "      <td>2.50000</td>\n",
       "      <td>2.500000</td>\n",
       "      <td>2.500000</td>\n",
       "      <td>2.50000</td>\n",
       "    </tr>\n",
       "    <tr>\n",
       "      <th>75%</th>\n",
       "      <td>3.25000</td>\n",
       "      <td>2.750000</td>\n",
       "      <td>2.750000</td>\n",
       "      <td>3.25000</td>\n",
       "    </tr>\n",
       "    <tr>\n",
       "      <th>max</th>\n",
       "      <td>4.00000</td>\n",
       "      <td>3.000000</td>\n",
       "      <td>3.000000</td>\n",
       "      <td>4.00000</td>\n",
       "    </tr>\n",
       "  </tbody>\n",
       "</table>\n",
       "</div>"
      ],
      "text/plain": [
       "             0         1         2        3\n",
       "count  2.00000  2.000000  2.000000  2.00000\n",
       "mean   2.50000  2.500000  2.500000  2.50000\n",
       "std    2.12132  0.707107  0.707107  2.12132\n",
       "min    1.00000  2.000000  2.000000  1.00000\n",
       "25%    1.75000  2.250000  2.250000  1.75000\n",
       "50%    2.50000  2.500000  2.500000  2.50000\n",
       "75%    3.25000  2.750000  2.750000  3.25000\n",
       "max    4.00000  3.000000  3.000000  4.00000"
      ]
     },
     "execution_count": 90,
     "metadata": {},
     "output_type": "execute_result"
    }
   ],
   "source": [
    "df.describe()"
   ]
  },
  {
   "cell_type": "code",
   "execution_count": 53,
   "metadata": {},
   "outputs": [
    {
     "data": {
      "text/html": [
       "<div>\n",
       "<style scoped>\n",
       "    .dataframe tbody tr th:only-of-type {\n",
       "        vertical-align: middle;\n",
       "    }\n",
       "\n",
       "    .dataframe tbody tr th {\n",
       "        vertical-align: top;\n",
       "    }\n",
       "\n",
       "    .dataframe thead th {\n",
       "        text-align: right;\n",
       "    }\n",
       "</style>\n",
       "<table border=\"1\" class=\"dataframe\">\n",
       "  <thead>\n",
       "    <tr style=\"text-align: right;\">\n",
       "      <th></th>\n",
       "      <th>dsadsa</th>\n",
       "      <th>fdfd</th>\n",
       "      <th>gfgf</th>\n",
       "      <th>hghg</th>\n",
       "    </tr>\n",
       "  </thead>\n",
       "  <tbody>\n",
       "    <tr>\n",
       "      <th>xx</th>\n",
       "      <td>1</td>\n",
       "      <td>2</td>\n",
       "      <td>3</td>\n",
       "      <td>4</td>\n",
       "    </tr>\n",
       "    <tr>\n",
       "      <th>ss</th>\n",
       "      <td>4</td>\n",
       "      <td>3</td>\n",
       "      <td>2</td>\n",
       "      <td>1</td>\n",
       "    </tr>\n",
       "  </tbody>\n",
       "</table>\n",
       "</div>"
      ],
      "text/plain": [
       "    dsadsa  fdfd  gfgf  hghg\n",
       "xx       1     2     3     4\n",
       "ss       4     3     2     1"
      ]
     },
     "execution_count": 53,
     "metadata": {},
     "output_type": "execute_result"
    }
   ],
   "source": [
    "pd.DataFrame([[1,2,3,4], [4,3,2,1]], index=['xx', 'ss'], columns=['dsadsa', 'fdfd', 'gfgf', 'hghg'])"
   ]
  },
  {
   "cell_type": "code",
   "execution_count": 55,
   "metadata": {},
   "outputs": [],
   "source": [
    "df = pd.read_csv('./James.csv')"
   ]
  },
  {
   "cell_type": "code",
   "execution_count": 61,
   "metadata": {},
   "outputs": [
    {
     "data": {
      "text/html": [
       "<div>\n",
       "<style scoped>\n",
       "    .dataframe tbody tr th:only-of-type {\n",
       "        vertical-align: middle;\n",
       "    }\n",
       "\n",
       "    .dataframe tbody tr th {\n",
       "        vertical-align: top;\n",
       "    }\n",
       "\n",
       "    .dataframe thead th {\n",
       "        text-align: right;\n",
       "    }\n",
       "</style>\n",
       "<table border=\"1\" class=\"dataframe\">\n",
       "  <thead>\n",
       "    <tr style=\"text-align: right;\">\n",
       "      <th></th>\n",
       "      <th>对手</th>\n",
       "      <th>胜负</th>\n",
       "      <th>主客场</th>\n",
       "      <th>命中</th>\n",
       "      <th>投篮数</th>\n",
       "      <th>投篮命中率</th>\n",
       "      <th>3分命中率</th>\n",
       "      <th>篮板</th>\n",
       "      <th>助攻</th>\n",
       "      <th>得分</th>\n",
       "    </tr>\n",
       "  </thead>\n",
       "  <tbody>\n",
       "    <tr>\n",
       "      <th>0</th>\n",
       "      <td>勇士</td>\n",
       "      <td>胜</td>\n",
       "      <td>客</td>\n",
       "      <td>10</td>\n",
       "      <td>23</td>\n",
       "      <td>0.435</td>\n",
       "      <td>0.444</td>\n",
       "      <td>6</td>\n",
       "      <td>11</td>\n",
       "      <td>27</td>\n",
       "    </tr>\n",
       "    <tr>\n",
       "      <th>1</th>\n",
       "      <td>国王</td>\n",
       "      <td>胜</td>\n",
       "      <td>客</td>\n",
       "      <td>8</td>\n",
       "      <td>21</td>\n",
       "      <td>0.381</td>\n",
       "      <td>0.286</td>\n",
       "      <td>3</td>\n",
       "      <td>9</td>\n",
       "      <td>27</td>\n",
       "    </tr>\n",
       "    <tr>\n",
       "      <th>2</th>\n",
       "      <td>小牛</td>\n",
       "      <td>胜</td>\n",
       "      <td>主</td>\n",
       "      <td>10</td>\n",
       "      <td>19</td>\n",
       "      <td>0.526</td>\n",
       "      <td>0.462</td>\n",
       "      <td>3</td>\n",
       "      <td>7</td>\n",
       "      <td>29</td>\n",
       "    </tr>\n",
       "    <tr>\n",
       "      <th>3</th>\n",
       "      <td>灰熊</td>\n",
       "      <td>负</td>\n",
       "      <td>主</td>\n",
       "      <td>8</td>\n",
       "      <td>20</td>\n",
       "      <td>0.400</td>\n",
       "      <td>0.250</td>\n",
       "      <td>5</td>\n",
       "      <td>8</td>\n",
       "      <td>22</td>\n",
       "    </tr>\n",
       "    <tr>\n",
       "      <th>4</th>\n",
       "      <td>76人</td>\n",
       "      <td>胜</td>\n",
       "      <td>客</td>\n",
       "      <td>10</td>\n",
       "      <td>20</td>\n",
       "      <td>0.500</td>\n",
       "      <td>0.250</td>\n",
       "      <td>3</td>\n",
       "      <td>13</td>\n",
       "      <td>27</td>\n",
       "    </tr>\n",
       "    <tr>\n",
       "      <th>5</th>\n",
       "      <td>黄蜂</td>\n",
       "      <td>胜</td>\n",
       "      <td>客</td>\n",
       "      <td>8</td>\n",
       "      <td>18</td>\n",
       "      <td>0.444</td>\n",
       "      <td>0.400</td>\n",
       "      <td>10</td>\n",
       "      <td>11</td>\n",
       "      <td>27</td>\n",
       "    </tr>\n",
       "  </tbody>\n",
       "</table>\n",
       "</div>"
      ],
      "text/plain": [
       "    对手 胜负 主客场  命中  投篮数  投篮命中率  3分命中率  篮板  助攻  得分\n",
       "0   勇士  胜   客  10   23  0.435  0.444   6  11  27\n",
       "1   国王  胜   客   8   21  0.381  0.286   3   9  27\n",
       "2   小牛  胜   主  10   19  0.526  0.462   3   7  29\n",
       "3   灰熊  负   主   8   20  0.400  0.250   5   8  22\n",
       "4  76人  胜   客  10   20  0.500  0.250   3  13  27\n",
       "5   黄蜂  胜   客   8   18  0.444  0.400  10  11  27"
      ]
     },
     "execution_count": 61,
     "metadata": {},
     "output_type": "execute_result"
    }
   ],
   "source": [
    "df.head(6)"
   ]
  },
  {
   "cell_type": "code",
   "execution_count": 65,
   "metadata": {},
   "outputs": [],
   "source": [
    "df.to_csv('./b.csv', index=False)"
   ]
  },
  {
   "cell_type": "code",
   "execution_count": 66,
   "metadata": {},
   "outputs": [
    {
     "data": {
      "text/html": [
       "<div>\n",
       "<style scoped>\n",
       "    .dataframe tbody tr th:only-of-type {\n",
       "        vertical-align: middle;\n",
       "    }\n",
       "\n",
       "    .dataframe tbody tr th {\n",
       "        vertical-align: top;\n",
       "    }\n",
       "\n",
       "    .dataframe thead th {\n",
       "        text-align: right;\n",
       "    }\n",
       "</style>\n",
       "<table border=\"1\" class=\"dataframe\">\n",
       "  <thead>\n",
       "    <tr style=\"text-align: right;\">\n",
       "      <th></th>\n",
       "      <th>对手</th>\n",
       "      <th>胜负</th>\n",
       "      <th>主客场</th>\n",
       "      <th>命中</th>\n",
       "      <th>投篮数</th>\n",
       "      <th>投篮命中率</th>\n",
       "      <th>3分命中率</th>\n",
       "      <th>篮板</th>\n",
       "      <th>助攻</th>\n",
       "      <th>得分</th>\n",
       "    </tr>\n",
       "  </thead>\n",
       "  <tbody>\n",
       "    <tr>\n",
       "      <th>0</th>\n",
       "      <td>勇士</td>\n",
       "      <td>胜</td>\n",
       "      <td>客</td>\n",
       "      <td>10</td>\n",
       "      <td>23</td>\n",
       "      <td>0.435</td>\n",
       "      <td>0.444</td>\n",
       "      <td>6</td>\n",
       "      <td>11</td>\n",
       "      <td>27</td>\n",
       "    </tr>\n",
       "    <tr>\n",
       "      <th>1</th>\n",
       "      <td>国王</td>\n",
       "      <td>胜</td>\n",
       "      <td>客</td>\n",
       "      <td>8</td>\n",
       "      <td>21</td>\n",
       "      <td>0.381</td>\n",
       "      <td>0.286</td>\n",
       "      <td>3</td>\n",
       "      <td>9</td>\n",
       "      <td>27</td>\n",
       "    </tr>\n",
       "    <tr>\n",
       "      <th>2</th>\n",
       "      <td>小牛</td>\n",
       "      <td>胜</td>\n",
       "      <td>主</td>\n",
       "      <td>10</td>\n",
       "      <td>19</td>\n",
       "      <td>0.526</td>\n",
       "      <td>0.462</td>\n",
       "      <td>3</td>\n",
       "      <td>7</td>\n",
       "      <td>29</td>\n",
       "    </tr>\n",
       "    <tr>\n",
       "      <th>3</th>\n",
       "      <td>灰熊</td>\n",
       "      <td>负</td>\n",
       "      <td>主</td>\n",
       "      <td>8</td>\n",
       "      <td>20</td>\n",
       "      <td>0.400</td>\n",
       "      <td>0.250</td>\n",
       "      <td>5</td>\n",
       "      <td>8</td>\n",
       "      <td>22</td>\n",
       "    </tr>\n",
       "    <tr>\n",
       "      <th>4</th>\n",
       "      <td>76人</td>\n",
       "      <td>胜</td>\n",
       "      <td>客</td>\n",
       "      <td>10</td>\n",
       "      <td>20</td>\n",
       "      <td>0.500</td>\n",
       "      <td>0.250</td>\n",
       "      <td>3</td>\n",
       "      <td>13</td>\n",
       "      <td>27</td>\n",
       "    </tr>\n",
       "    <tr>\n",
       "      <th>5</th>\n",
       "      <td>黄蜂</td>\n",
       "      <td>胜</td>\n",
       "      <td>客</td>\n",
       "      <td>8</td>\n",
       "      <td>18</td>\n",
       "      <td>0.444</td>\n",
       "      <td>0.400</td>\n",
       "      <td>10</td>\n",
       "      <td>11</td>\n",
       "      <td>27</td>\n",
       "    </tr>\n",
       "    <tr>\n",
       "      <th>6</th>\n",
       "      <td>灰熊</td>\n",
       "      <td>负</td>\n",
       "      <td>客</td>\n",
       "      <td>6</td>\n",
       "      <td>19</td>\n",
       "      <td>0.316</td>\n",
       "      <td>0.222</td>\n",
       "      <td>4</td>\n",
       "      <td>8</td>\n",
       "      <td>20</td>\n",
       "    </tr>\n",
       "    <tr>\n",
       "      <th>7</th>\n",
       "      <td>76人</td>\n",
       "      <td>负</td>\n",
       "      <td>主</td>\n",
       "      <td>8</td>\n",
       "      <td>21</td>\n",
       "      <td>0.381</td>\n",
       "      <td>0.429</td>\n",
       "      <td>4</td>\n",
       "      <td>7</td>\n",
       "      <td>29</td>\n",
       "    </tr>\n",
       "    <tr>\n",
       "      <th>8</th>\n",
       "      <td>尼克斯</td>\n",
       "      <td>胜</td>\n",
       "      <td>客</td>\n",
       "      <td>9</td>\n",
       "      <td>23</td>\n",
       "      <td>0.391</td>\n",
       "      <td>0.353</td>\n",
       "      <td>5</td>\n",
       "      <td>9</td>\n",
       "      <td>31</td>\n",
       "    </tr>\n",
       "    <tr>\n",
       "      <th>9</th>\n",
       "      <td>老鹰</td>\n",
       "      <td>胜</td>\n",
       "      <td>客</td>\n",
       "      <td>8</td>\n",
       "      <td>15</td>\n",
       "      <td>0.533</td>\n",
       "      <td>0.545</td>\n",
       "      <td>3</td>\n",
       "      <td>11</td>\n",
       "      <td>29</td>\n",
       "    </tr>\n",
       "    <tr>\n",
       "      <th>10</th>\n",
       "      <td>爵士</td>\n",
       "      <td>胜</td>\n",
       "      <td>主</td>\n",
       "      <td>19</td>\n",
       "      <td>25</td>\n",
       "      <td>0.760</td>\n",
       "      <td>0.875</td>\n",
       "      <td>2</td>\n",
       "      <td>13</td>\n",
       "      <td>56</td>\n",
       "    </tr>\n",
       "    <tr>\n",
       "      <th>11</th>\n",
       "      <td>骑士</td>\n",
       "      <td>胜</td>\n",
       "      <td>主</td>\n",
       "      <td>8</td>\n",
       "      <td>21</td>\n",
       "      <td>0.381</td>\n",
       "      <td>0.429</td>\n",
       "      <td>11</td>\n",
       "      <td>13</td>\n",
       "      <td>35</td>\n",
       "    </tr>\n",
       "    <tr>\n",
       "      <th>12</th>\n",
       "      <td>灰熊</td>\n",
       "      <td>胜</td>\n",
       "      <td>主</td>\n",
       "      <td>11</td>\n",
       "      <td>25</td>\n",
       "      <td>0.440</td>\n",
       "      <td>0.429</td>\n",
       "      <td>4</td>\n",
       "      <td>8</td>\n",
       "      <td>38</td>\n",
       "    </tr>\n",
       "    <tr>\n",
       "      <th>13</th>\n",
       "      <td>步行者</td>\n",
       "      <td>胜</td>\n",
       "      <td>客</td>\n",
       "      <td>9</td>\n",
       "      <td>21</td>\n",
       "      <td>0.429</td>\n",
       "      <td>0.250</td>\n",
       "      <td>5</td>\n",
       "      <td>15</td>\n",
       "      <td>26</td>\n",
       "    </tr>\n",
       "    <tr>\n",
       "      <th>14</th>\n",
       "      <td>猛龙</td>\n",
       "      <td>负</td>\n",
       "      <td>主</td>\n",
       "      <td>8</td>\n",
       "      <td>25</td>\n",
       "      <td>0.320</td>\n",
       "      <td>0.273</td>\n",
       "      <td>6</td>\n",
       "      <td>11</td>\n",
       "      <td>38</td>\n",
       "    </tr>\n",
       "    <tr>\n",
       "      <th>15</th>\n",
       "      <td>太阳</td>\n",
       "      <td>胜</td>\n",
       "      <td>客</td>\n",
       "      <td>12</td>\n",
       "      <td>22</td>\n",
       "      <td>0.545</td>\n",
       "      <td>0.545</td>\n",
       "      <td>2</td>\n",
       "      <td>7</td>\n",
       "      <td>48</td>\n",
       "    </tr>\n",
       "    <tr>\n",
       "      <th>16</th>\n",
       "      <td>灰熊</td>\n",
       "      <td>胜</td>\n",
       "      <td>客</td>\n",
       "      <td>9</td>\n",
       "      <td>20</td>\n",
       "      <td>0.450</td>\n",
       "      <td>0.500</td>\n",
       "      <td>5</td>\n",
       "      <td>7</td>\n",
       "      <td>29</td>\n",
       "    </tr>\n",
       "    <tr>\n",
       "      <th>17</th>\n",
       "      <td>掘金</td>\n",
       "      <td>胜</td>\n",
       "      <td>主</td>\n",
       "      <td>6</td>\n",
       "      <td>16</td>\n",
       "      <td>0.375</td>\n",
       "      <td>0.143</td>\n",
       "      <td>8</td>\n",
       "      <td>9</td>\n",
       "      <td>21</td>\n",
       "    </tr>\n",
       "    <tr>\n",
       "      <th>18</th>\n",
       "      <td>尼克斯</td>\n",
       "      <td>胜</td>\n",
       "      <td>主</td>\n",
       "      <td>12</td>\n",
       "      <td>27</td>\n",
       "      <td>0.444</td>\n",
       "      <td>0.385</td>\n",
       "      <td>2</td>\n",
       "      <td>10</td>\n",
       "      <td>37</td>\n",
       "    </tr>\n",
       "    <tr>\n",
       "      <th>19</th>\n",
       "      <td>篮网</td>\n",
       "      <td>胜</td>\n",
       "      <td>主</td>\n",
       "      <td>13</td>\n",
       "      <td>20</td>\n",
       "      <td>0.650</td>\n",
       "      <td>0.615</td>\n",
       "      <td>10</td>\n",
       "      <td>8</td>\n",
       "      <td>37</td>\n",
       "    </tr>\n",
       "    <tr>\n",
       "      <th>20</th>\n",
       "      <td>步行者</td>\n",
       "      <td>胜</td>\n",
       "      <td>主</td>\n",
       "      <td>8</td>\n",
       "      <td>22</td>\n",
       "      <td>0.364</td>\n",
       "      <td>0.333</td>\n",
       "      <td>8</td>\n",
       "      <td>10</td>\n",
       "      <td>29</td>\n",
       "    </tr>\n",
       "    <tr>\n",
       "      <th>21</th>\n",
       "      <td>湖人</td>\n",
       "      <td>胜</td>\n",
       "      <td>客</td>\n",
       "      <td>13</td>\n",
       "      <td>22</td>\n",
       "      <td>0.591</td>\n",
       "      <td>0.444</td>\n",
       "      <td>4</td>\n",
       "      <td>9</td>\n",
       "      <td>36</td>\n",
       "    </tr>\n",
       "    <tr>\n",
       "      <th>22</th>\n",
       "      <td>爵士</td>\n",
       "      <td>胜</td>\n",
       "      <td>客</td>\n",
       "      <td>8</td>\n",
       "      <td>19</td>\n",
       "      <td>0.421</td>\n",
       "      <td>0.333</td>\n",
       "      <td>5</td>\n",
       "      <td>3</td>\n",
       "      <td>29</td>\n",
       "    </tr>\n",
       "    <tr>\n",
       "      <th>23</th>\n",
       "      <td>开拓者</td>\n",
       "      <td>胜</td>\n",
       "      <td>客</td>\n",
       "      <td>16</td>\n",
       "      <td>29</td>\n",
       "      <td>0.552</td>\n",
       "      <td>0.571</td>\n",
       "      <td>8</td>\n",
       "      <td>3</td>\n",
       "      <td>48</td>\n",
       "    </tr>\n",
       "    <tr>\n",
       "      <th>24</th>\n",
       "      <td>鹈鹕</td>\n",
       "      <td>胜</td>\n",
       "      <td>主</td>\n",
       "      <td>8</td>\n",
       "      <td>16</td>\n",
       "      <td>0.500</td>\n",
       "      <td>0.400</td>\n",
       "      <td>1</td>\n",
       "      <td>17</td>\n",
       "      <td>26</td>\n",
       "    </tr>\n",
       "  </tbody>\n",
       "</table>\n",
       "</div>"
      ],
      "text/plain": [
       "     对手 胜负 主客场  命中  投篮数  投篮命中率  3分命中率  篮板  助攻  得分\n",
       "0    勇士  胜   客  10   23  0.435  0.444   6  11  27\n",
       "1    国王  胜   客   8   21  0.381  0.286   3   9  27\n",
       "2    小牛  胜   主  10   19  0.526  0.462   3   7  29\n",
       "3    灰熊  负   主   8   20  0.400  0.250   5   8  22\n",
       "4   76人  胜   客  10   20  0.500  0.250   3  13  27\n",
       "5    黄蜂  胜   客   8   18  0.444  0.400  10  11  27\n",
       "6    灰熊  负   客   6   19  0.316  0.222   4   8  20\n",
       "7   76人  负   主   8   21  0.381  0.429   4   7  29\n",
       "8   尼克斯  胜   客   9   23  0.391  0.353   5   9  31\n",
       "9    老鹰  胜   客   8   15  0.533  0.545   3  11  29\n",
       "10   爵士  胜   主  19   25  0.760  0.875   2  13  56\n",
       "11   骑士  胜   主   8   21  0.381  0.429  11  13  35\n",
       "12   灰熊  胜   主  11   25  0.440  0.429   4   8  38\n",
       "13  步行者  胜   客   9   21  0.429  0.250   5  15  26\n",
       "14   猛龙  负   主   8   25  0.320  0.273   6  11  38\n",
       "15   太阳  胜   客  12   22  0.545  0.545   2   7  48\n",
       "16   灰熊  胜   客   9   20  0.450  0.500   5   7  29\n",
       "17   掘金  胜   主   6   16  0.375  0.143   8   9  21\n",
       "18  尼克斯  胜   主  12   27  0.444  0.385   2  10  37\n",
       "19   篮网  胜   主  13   20  0.650  0.615  10   8  37\n",
       "20  步行者  胜   主   8   22  0.364  0.333   8  10  29\n",
       "21   湖人  胜   客  13   22  0.591  0.444   4   9  36\n",
       "22   爵士  胜   客   8   19  0.421  0.333   5   3  29\n",
       "23  开拓者  胜   客  16   29  0.552  0.571   8   3  48\n",
       "24   鹈鹕  胜   主   8   16  0.500  0.400   1  17  26"
      ]
     },
     "execution_count": 66,
     "metadata": {},
     "output_type": "execute_result"
    }
   ],
   "source": [
    "pd.read_csv('./b.csv')"
   ]
  },
  {
   "cell_type": "code",
   "execution_count": 108,
   "metadata": {},
   "outputs": [],
   "source": [
    "df = pd.read_html('https://baike.baidu.com/item/NBA%E6%80%BB%E5%86%A0%E5%86%9B/2173192?fr=aladdin')"
   ]
  },
  {
   "cell_type": "code",
   "execution_count": 109,
   "metadata": {},
   "outputs": [],
   "source": [
    "chapion_res = df[0]"
   ]
  },
  {
   "cell_type": "code",
   "execution_count": 110,
   "metadata": {},
   "outputs": [
    {
     "data": {
      "text/html": [
       "<div>\n",
       "<style scoped>\n",
       "    .dataframe tbody tr th:only-of-type {\n",
       "        vertical-align: middle;\n",
       "    }\n",
       "\n",
       "    .dataframe tbody tr th {\n",
       "        vertical-align: top;\n",
       "    }\n",
       "\n",
       "    .dataframe thead th {\n",
       "        text-align: right;\n",
       "    }\n",
       "</style>\n",
       "<table border=\"1\" class=\"dataframe\">\n",
       "  <thead>\n",
       "    <tr style=\"text-align: right;\">\n",
       "      <th></th>\n",
       "      <th>0</th>\n",
       "      <th>1</th>\n",
       "      <th>2</th>\n",
       "      <th>3</th>\n",
       "      <th>4</th>\n",
       "      <th>5</th>\n",
       "    </tr>\n",
       "  </thead>\n",
       "  <tbody>\n",
       "    <tr>\n",
       "      <th>0</th>\n",
       "      <td>年份</td>\n",
       "      <td>比赛日期</td>\n",
       "      <td>冠军</td>\n",
       "      <td>总比分</td>\n",
       "      <td>亚军</td>\n",
       "      <td>FMVP</td>\n",
       "    </tr>\n",
       "    <tr>\n",
       "      <th>1</th>\n",
       "      <td>1947</td>\n",
       "      <td>4.16-4.22</td>\n",
       "      <td>费城勇士队</td>\n",
       "      <td>4-1</td>\n",
       "      <td>芝加哥牡鹿队</td>\n",
       "      <td>未设立</td>\n",
       "    </tr>\n",
       "    <tr>\n",
       "      <th>2</th>\n",
       "      <td>1948</td>\n",
       "      <td>4.10-4.21</td>\n",
       "      <td>巴尔的摩子弹队</td>\n",
       "      <td>4-2</td>\n",
       "      <td>费城勇士队</td>\n",
       "      <td>未设立</td>\n",
       "    </tr>\n",
       "    <tr>\n",
       "      <th>3</th>\n",
       "      <td>1949</td>\n",
       "      <td>4.4-4.13</td>\n",
       "      <td>明尼阿波利斯湖人队</td>\n",
       "      <td>4-2</td>\n",
       "      <td>华盛顿国会队</td>\n",
       "      <td>未设立</td>\n",
       "    </tr>\n",
       "    <tr>\n",
       "      <th>4</th>\n",
       "      <td>1950</td>\n",
       "      <td>4.8-4.23</td>\n",
       "      <td>明尼阿波利斯湖人队</td>\n",
       "      <td>4-2</td>\n",
       "      <td>塞拉库斯民族队</td>\n",
       "      <td>未设立</td>\n",
       "    </tr>\n",
       "  </tbody>\n",
       "</table>\n",
       "</div>"
      ],
      "text/plain": [
       "      0          1          2    3        4     5\n",
       "0    年份       比赛日期         冠军  总比分       亚军  FMVP\n",
       "1  1947  4.16-4.22      费城勇士队  4-1   芝加哥牡鹿队   未设立\n",
       "2  1948  4.10-4.21    巴尔的摩子弹队  4-2    费城勇士队   未设立\n",
       "3  1949   4.4-4.13  明尼阿波利斯湖人队  4-2   华盛顿国会队   未设立\n",
       "4  1950   4.8-4.23  明尼阿波利斯湖人队  4-2  塞拉库斯民族队   未设立"
      ]
     },
     "execution_count": 110,
     "metadata": {},
     "output_type": "execute_result"
    }
   ],
   "source": [
    "chapion_res.head()"
   ]
  },
  {
   "cell_type": "code",
   "execution_count": 111,
   "metadata": {},
   "outputs": [
    {
     "data": {
      "text/plain": [
       "array(['年份', '比赛日期', '冠军', '总比分', '亚军', 'FMVP'], dtype=object)"
      ]
     },
     "execution_count": 111,
     "metadata": {},
     "output_type": "execute_result"
    }
   ],
   "source": [
    "chapion_res.values[0]"
   ]
  },
  {
   "cell_type": "code",
   "execution_count": null,
   "metadata": {},
   "outputs": [],
   "source": []
  },
  {
   "cell_type": "code",
   "execution_count": 112,
   "metadata": {},
   "outputs": [
    {
     "data": {
      "text/html": [
       "<div>\n",
       "<style scoped>\n",
       "    .dataframe tbody tr th:only-of-type {\n",
       "        vertical-align: middle;\n",
       "    }\n",
       "\n",
       "    .dataframe tbody tr th {\n",
       "        vertical-align: top;\n",
       "    }\n",
       "\n",
       "    .dataframe thead th {\n",
       "        text-align: right;\n",
       "    }\n",
       "</style>\n",
       "<table border=\"1\" class=\"dataframe\">\n",
       "  <thead>\n",
       "    <tr style=\"text-align: right;\">\n",
       "      <th></th>\n",
       "      <th>0</th>\n",
       "      <th>1</th>\n",
       "      <th>2</th>\n",
       "      <th>3</th>\n",
       "      <th>4</th>\n",
       "      <th>5</th>\n",
       "    </tr>\n",
       "  </thead>\n",
       "  <tbody>\n",
       "    <tr>\n",
       "      <th>0</th>\n",
       "      <td>年份</td>\n",
       "      <td>比赛日期</td>\n",
       "      <td>冠军</td>\n",
       "      <td>总比分</td>\n",
       "      <td>亚军</td>\n",
       "      <td>FMVP</td>\n",
       "    </tr>\n",
       "    <tr>\n",
       "      <th>1</th>\n",
       "      <td>1947</td>\n",
       "      <td>4.16-4.22</td>\n",
       "      <td>费城勇士队</td>\n",
       "      <td>4-1</td>\n",
       "      <td>芝加哥牡鹿队</td>\n",
       "      <td>未设立</td>\n",
       "    </tr>\n",
       "    <tr>\n",
       "      <th>2</th>\n",
       "      <td>1948</td>\n",
       "      <td>4.10-4.21</td>\n",
       "      <td>巴尔的摩子弹队</td>\n",
       "      <td>4-2</td>\n",
       "      <td>费城勇士队</td>\n",
       "      <td>未设立</td>\n",
       "    </tr>\n",
       "    <tr>\n",
       "      <th>3</th>\n",
       "      <td>1949</td>\n",
       "      <td>4.4-4.13</td>\n",
       "      <td>明尼阿波利斯湖人队</td>\n",
       "      <td>4-2</td>\n",
       "      <td>华盛顿国会队</td>\n",
       "      <td>未设立</td>\n",
       "    </tr>\n",
       "    <tr>\n",
       "      <th>4</th>\n",
       "      <td>1950</td>\n",
       "      <td>4.8-4.23</td>\n",
       "      <td>明尼阿波利斯湖人队</td>\n",
       "      <td>4-2</td>\n",
       "      <td>塞拉库斯民族队</td>\n",
       "      <td>未设立</td>\n",
       "    </tr>\n",
       "  </tbody>\n",
       "</table>\n",
       "</div>"
      ],
      "text/plain": [
       "      0          1          2    3        4     5\n",
       "0    年份       比赛日期         冠军  总比分       亚军  FMVP\n",
       "1  1947  4.16-4.22      费城勇士队  4-1   芝加哥牡鹿队   未设立\n",
       "2  1948  4.10-4.21    巴尔的摩子弹队  4-2    费城勇士队   未设立\n",
       "3  1949   4.4-4.13  明尼阿波利斯湖人队  4-2   华盛顿国会队   未设立\n",
       "4  1950   4.8-4.23  明尼阿波利斯湖人队  4-2  塞拉库斯民族队   未设立"
      ]
     },
     "execution_count": 112,
     "metadata": {},
     "output_type": "execute_result"
    }
   ],
   "source": [
    "chapion_res.head()"
   ]
  },
  {
   "cell_type": "code",
   "execution_count": 114,
   "metadata": {},
   "outputs": [
    {
     "data": {
      "text/html": [
       "<div>\n",
       "<style scoped>\n",
       "    .dataframe tbody tr th:only-of-type {\n",
       "        vertical-align: middle;\n",
       "    }\n",
       "\n",
       "    .dataframe tbody tr th {\n",
       "        vertical-align: top;\n",
       "    }\n",
       "\n",
       "    .dataframe thead th {\n",
       "        text-align: right;\n",
       "    }\n",
       "</style>\n",
       "<table border=\"1\" class=\"dataframe\">\n",
       "  <thead>\n",
       "    <tr style=\"text-align: right;\">\n",
       "      <th></th>\n",
       "      <th>0</th>\n",
       "      <th>1</th>\n",
       "      <th>2</th>\n",
       "      <th>3</th>\n",
       "      <th>4</th>\n",
       "      <th>5</th>\n",
       "    </tr>\n",
       "  </thead>\n",
       "  <tbody>\n",
       "    <tr>\n",
       "      <th>0</th>\n",
       "      <td>年份</td>\n",
       "      <td>比赛日期</td>\n",
       "      <td>冠军</td>\n",
       "      <td>总比分</td>\n",
       "      <td>亚军</td>\n",
       "      <td>FMVP</td>\n",
       "    </tr>\n",
       "    <tr>\n",
       "      <th>1</th>\n",
       "      <td>1947</td>\n",
       "      <td>4.16-4.22</td>\n",
       "      <td>费城勇士队</td>\n",
       "      <td>4-1</td>\n",
       "      <td>芝加哥牡鹿队</td>\n",
       "      <td>未设立</td>\n",
       "    </tr>\n",
       "    <tr>\n",
       "      <th>2</th>\n",
       "      <td>1948</td>\n",
       "      <td>4.10-4.21</td>\n",
       "      <td>巴尔的摩子弹队</td>\n",
       "      <td>4-2</td>\n",
       "      <td>费城勇士队</td>\n",
       "      <td>未设立</td>\n",
       "    </tr>\n",
       "    <tr>\n",
       "      <th>3</th>\n",
       "      <td>1949</td>\n",
       "      <td>4.4-4.13</td>\n",
       "      <td>明尼阿波利斯湖人队</td>\n",
       "      <td>4-2</td>\n",
       "      <td>华盛顿国会队</td>\n",
       "      <td>未设立</td>\n",
       "    </tr>\n",
       "  </tbody>\n",
       "</table>\n",
       "</div>"
      ],
      "text/plain": [
       "      0          1          2    3       4     5\n",
       "0    年份       比赛日期         冠军  总比分      亚军  FMVP\n",
       "1  1947  4.16-4.22      费城勇士队  4-1  芝加哥牡鹿队   未设立\n",
       "2  1948  4.10-4.21    巴尔的摩子弹队  4-2   费城勇士队   未设立\n",
       "3  1949   4.4-4.13  明尼阿波利斯湖人队  4-2  华盛顿国会队   未设立"
      ]
     },
     "execution_count": 114,
     "metadata": {},
     "output_type": "execute_result"
    }
   ],
   "source": [
    "chapion_res.loc[0:3]"
   ]
  },
  {
   "cell_type": "code",
   "execution_count": 115,
   "metadata": {},
   "outputs": [
    {
     "data": {
      "text/plain": [
       "0      年份\n",
       "1    比赛日期\n",
       "2      冠军\n",
       "3     总比分\n",
       "4      亚军\n",
       "5    FMVP\n",
       "Name: 0, dtype: object"
      ]
     },
     "execution_count": 115,
     "metadata": {},
     "output_type": "execute_result"
    }
   ],
   "source": [
    "chapion_res.iloc[0]"
   ]
  },
  {
   "cell_type": "code",
   "execution_count": 116,
   "metadata": {},
   "outputs": [
    {
     "data": {
      "text/html": [
       "<div>\n",
       "<style scoped>\n",
       "    .dataframe tbody tr th:only-of-type {\n",
       "        vertical-align: middle;\n",
       "    }\n",
       "\n",
       "    .dataframe tbody tr th {\n",
       "        vertical-align: top;\n",
       "    }\n",
       "\n",
       "    .dataframe thead th {\n",
       "        text-align: right;\n",
       "    }\n",
       "</style>\n",
       "<table border=\"1\" class=\"dataframe\">\n",
       "  <thead>\n",
       "    <tr style=\"text-align: right;\">\n",
       "      <th></th>\n",
       "      <th>0</th>\n",
       "      <th>1</th>\n",
       "      <th>2</th>\n",
       "      <th>3</th>\n",
       "      <th>4</th>\n",
       "      <th>5</th>\n",
       "    </tr>\n",
       "  </thead>\n",
       "  <tbody>\n",
       "    <tr>\n",
       "      <th>0</th>\n",
       "      <td>年份</td>\n",
       "      <td>比赛日期</td>\n",
       "      <td>冠军</td>\n",
       "      <td>总比分</td>\n",
       "      <td>亚军</td>\n",
       "      <td>FMVP</td>\n",
       "    </tr>\n",
       "    <tr>\n",
       "      <th>1</th>\n",
       "      <td>1947</td>\n",
       "      <td>4.16-4.22</td>\n",
       "      <td>费城勇士队</td>\n",
       "      <td>4-1</td>\n",
       "      <td>芝加哥牡鹿队</td>\n",
       "      <td>未设立</td>\n",
       "    </tr>\n",
       "    <tr>\n",
       "      <th>2</th>\n",
       "      <td>1948</td>\n",
       "      <td>4.10-4.21</td>\n",
       "      <td>巴尔的摩子弹队</td>\n",
       "      <td>4-2</td>\n",
       "      <td>费城勇士队</td>\n",
       "      <td>未设立</td>\n",
       "    </tr>\n",
       "    <tr>\n",
       "      <th>3</th>\n",
       "      <td>1949</td>\n",
       "      <td>4.4-4.13</td>\n",
       "      <td>明尼阿波利斯湖人队</td>\n",
       "      <td>4-2</td>\n",
       "      <td>华盛顿国会队</td>\n",
       "      <td>未设立</td>\n",
       "    </tr>\n",
       "    <tr>\n",
       "      <th>4</th>\n",
       "      <td>1950</td>\n",
       "      <td>4.8-4.23</td>\n",
       "      <td>明尼阿波利斯湖人队</td>\n",
       "      <td>4-2</td>\n",
       "      <td>塞拉库斯民族队</td>\n",
       "      <td>未设立</td>\n",
       "    </tr>\n",
       "  </tbody>\n",
       "</table>\n",
       "</div>"
      ],
      "text/plain": [
       "      0          1          2    3        4     5\n",
       "0    年份       比赛日期         冠军  总比分       亚军  FMVP\n",
       "1  1947  4.16-4.22      费城勇士队  4-1   芝加哥牡鹿队   未设立\n",
       "2  1948  4.10-4.21    巴尔的摩子弹队  4-2    费城勇士队   未设立\n",
       "3  1949   4.4-4.13  明尼阿波利斯湖人队  4-2   华盛顿国会队   未设立\n",
       "4  1950   4.8-4.23  明尼阿波利斯湖人队  4-2  塞拉库斯民族队   未设立"
      ]
     },
     "execution_count": 116,
     "metadata": {},
     "output_type": "execute_result"
    }
   ],
   "source": [
    "chapion_res.head()"
   ]
  },
  {
   "cell_type": "code",
   "execution_count": 134,
   "metadata": {},
   "outputs": [],
   "source": [
    "chapion_res.drop?"
   ]
  },
  {
   "cell_type": "code",
   "execution_count": 138,
   "metadata": {},
   "outputs": [
    {
     "data": {
      "text/html": [
       "<div>\n",
       "<style scoped>\n",
       "    .dataframe tbody tr th:only-of-type {\n",
       "        vertical-align: middle;\n",
       "    }\n",
       "\n",
       "    .dataframe tbody tr th {\n",
       "        vertical-align: top;\n",
       "    }\n",
       "\n",
       "    .dataframe thead th {\n",
       "        text-align: right;\n",
       "    }\n",
       "</style>\n",
       "<table border=\"1\" class=\"dataframe\">\n",
       "  <thead>\n",
       "    <tr style=\"text-align: right;\">\n",
       "      <th></th>\n",
       "      <th>年份</th>\n",
       "      <th>比赛日期</th>\n",
       "      <th>冠军</th>\n",
       "      <th>总比分</th>\n",
       "      <th>亚军</th>\n",
       "      <th>FMVP</th>\n",
       "    </tr>\n",
       "  </thead>\n",
       "  <tbody>\n",
       "    <tr>\n",
       "      <th>1</th>\n",
       "      <td>1947</td>\n",
       "      <td>4.16-4.22</td>\n",
       "      <td>费城勇士队</td>\n",
       "      <td>4-1</td>\n",
       "      <td>芝加哥牡鹿队</td>\n",
       "      <td>未设立</td>\n",
       "    </tr>\n",
       "    <tr>\n",
       "      <th>2</th>\n",
       "      <td>1948</td>\n",
       "      <td>4.10-4.21</td>\n",
       "      <td>巴尔的摩子弹队</td>\n",
       "      <td>4-2</td>\n",
       "      <td>费城勇士队</td>\n",
       "      <td>未设立</td>\n",
       "    </tr>\n",
       "    <tr>\n",
       "      <th>3</th>\n",
       "      <td>1949</td>\n",
       "      <td>4.4-4.13</td>\n",
       "      <td>明尼阿波利斯湖人队</td>\n",
       "      <td>4-2</td>\n",
       "      <td>华盛顿国会队</td>\n",
       "      <td>未设立</td>\n",
       "    </tr>\n",
       "    <tr>\n",
       "      <th>4</th>\n",
       "      <td>1950</td>\n",
       "      <td>4.8-4.23</td>\n",
       "      <td>明尼阿波利斯湖人队</td>\n",
       "      <td>4-2</td>\n",
       "      <td>塞拉库斯民族队</td>\n",
       "      <td>未设立</td>\n",
       "    </tr>\n",
       "    <tr>\n",
       "      <th>5</th>\n",
       "      <td>1951</td>\n",
       "      <td>4.7-4.21</td>\n",
       "      <td>皇家罗切斯特队</td>\n",
       "      <td>4-3</td>\n",
       "      <td>纽约尼克斯队</td>\n",
       "      <td>未设立</td>\n",
       "    </tr>\n",
       "  </tbody>\n",
       "</table>\n",
       "</div>"
      ],
      "text/plain": [
       "0    年份       比赛日期         冠军  总比分       亚军 FMVP\n",
       "1  1947  4.16-4.22      费城勇士队  4-1   芝加哥牡鹿队  未设立\n",
       "2  1948  4.10-4.21    巴尔的摩子弹队  4-2    费城勇士队  未设立\n",
       "3  1949   4.4-4.13  明尼阿波利斯湖人队  4-2   华盛顿国会队  未设立\n",
       "4  1950   4.8-4.23  明尼阿波利斯湖人队  4-2  塞拉库斯民族队  未设立\n",
       "5  1951   4.7-4.21    皇家罗切斯特队  4-3   纽约尼克斯队  未设立"
      ]
     },
     "execution_count": 138,
     "metadata": {},
     "output_type": "execute_result"
    }
   ],
   "source": [
    "chapion_res.columns = chapion_res.loc[0]\n",
    "chapion_res.drop([0], inplace=True)\n",
    "\n",
    "chapion_res.head()"
   ]
  },
  {
   "cell_type": "code",
   "execution_count": 168,
   "metadata": {},
   "outputs": [],
   "source": [
    "## group by"
   ]
  },
  {
   "cell_type": "code",
   "execution_count": 170,
   "metadata": {},
   "outputs": [
    {
     "data": {
      "text/plain": [
       "<pandas.core.groupby.generic.DataFrameGroupBy object at 0x000001B4393B6630>"
      ]
     },
     "execution_count": 170,
     "metadata": {},
     "output_type": "execute_result"
    }
   ],
   "source": [
    "chapion_res.groupby('冠军')"
   ]
  },
  {
   "cell_type": "code",
   "execution_count": 172,
   "metadata": {},
   "outputs": [
    {
     "data": {
      "text/html": [
       "<div>\n",
       "<style scoped>\n",
       "    .dataframe tbody tr th:only-of-type {\n",
       "        vertical-align: middle;\n",
       "    }\n",
       "\n",
       "    .dataframe tbody tr th {\n",
       "        vertical-align: top;\n",
       "    }\n",
       "\n",
       "    .dataframe thead th {\n",
       "        text-align: right;\n",
       "    }\n",
       "</style>\n",
       "<table border=\"1\" class=\"dataframe\">\n",
       "  <thead>\n",
       "    <tr style=\"text-align: right;\">\n",
       "      <th></th>\n",
       "      <th>年份</th>\n",
       "      <th>比赛日期</th>\n",
       "      <th>冠军</th>\n",
       "      <th>总比分</th>\n",
       "      <th>亚军</th>\n",
       "      <th>FMVP</th>\n",
       "    </tr>\n",
       "  </thead>\n",
       "  <tbody>\n",
       "    <tr>\n",
       "      <th>1</th>\n",
       "      <td>1947</td>\n",
       "      <td>4.16-4.22</td>\n",
       "      <td>费城勇士队</td>\n",
       "      <td>4-1</td>\n",
       "      <td>芝加哥牡鹿队</td>\n",
       "      <td>未设立</td>\n",
       "    </tr>\n",
       "    <tr>\n",
       "      <th>2</th>\n",
       "      <td>1948</td>\n",
       "      <td>4.10-4.21</td>\n",
       "      <td>巴尔的摩子弹队</td>\n",
       "      <td>4-2</td>\n",
       "      <td>费城勇士队</td>\n",
       "      <td>未设立</td>\n",
       "    </tr>\n",
       "    <tr>\n",
       "      <th>3</th>\n",
       "      <td>1949</td>\n",
       "      <td>4.4-4.13</td>\n",
       "      <td>明尼阿波利斯湖人队</td>\n",
       "      <td>4-2</td>\n",
       "      <td>华盛顿国会队</td>\n",
       "      <td>未设立</td>\n",
       "    </tr>\n",
       "    <tr>\n",
       "      <th>4</th>\n",
       "      <td>1950</td>\n",
       "      <td>4.8-4.23</td>\n",
       "      <td>明尼阿波利斯湖人队</td>\n",
       "      <td>4-2</td>\n",
       "      <td>塞拉库斯民族队</td>\n",
       "      <td>未设立</td>\n",
       "    </tr>\n",
       "    <tr>\n",
       "      <th>5</th>\n",
       "      <td>1951</td>\n",
       "      <td>4.7-4.21</td>\n",
       "      <td>皇家罗切斯特队</td>\n",
       "      <td>4-3</td>\n",
       "      <td>纽约尼克斯队</td>\n",
       "      <td>未设立</td>\n",
       "    </tr>\n",
       "    <tr>\n",
       "      <th>6</th>\n",
       "      <td>1952</td>\n",
       "      <td>4.12-4.25</td>\n",
       "      <td>明尼阿波利斯湖人队</td>\n",
       "      <td>4-3</td>\n",
       "      <td>纽约尼克斯队</td>\n",
       "      <td>未设立</td>\n",
       "    </tr>\n",
       "    <tr>\n",
       "      <th>7</th>\n",
       "      <td>1953</td>\n",
       "      <td>4.4-4.10</td>\n",
       "      <td>明尼阿波利斯湖人队</td>\n",
       "      <td>4-1</td>\n",
       "      <td>纽约尼克斯队</td>\n",
       "      <td>未设立</td>\n",
       "    </tr>\n",
       "    <tr>\n",
       "      <th>8</th>\n",
       "      <td>1954</td>\n",
       "      <td>3.31-4.12</td>\n",
       "      <td>明尼阿波利斯湖人队</td>\n",
       "      <td>4-3</td>\n",
       "      <td>塞拉库斯民族队</td>\n",
       "      <td>未设立</td>\n",
       "    </tr>\n",
       "    <tr>\n",
       "      <th>9</th>\n",
       "      <td>1955</td>\n",
       "      <td>3.31-4.10</td>\n",
       "      <td>塞拉库斯民族队</td>\n",
       "      <td>4-3</td>\n",
       "      <td>福特韦恩活塞队</td>\n",
       "      <td>未设立</td>\n",
       "    </tr>\n",
       "    <tr>\n",
       "      <th>10</th>\n",
       "      <td>1956</td>\n",
       "      <td>3.31-4.7</td>\n",
       "      <td>费城勇士队</td>\n",
       "      <td>4-1</td>\n",
       "      <td>福特韦恩活塞队</td>\n",
       "      <td>未设立</td>\n",
       "    </tr>\n",
       "    <tr>\n",
       "      <th>11</th>\n",
       "      <td>1957</td>\n",
       "      <td>3.30-4.13</td>\n",
       "      <td>波士顿凯尔特人队</td>\n",
       "      <td>4-3</td>\n",
       "      <td>圣路易斯老鹰队</td>\n",
       "      <td>未设立</td>\n",
       "    </tr>\n",
       "    <tr>\n",
       "      <th>12</th>\n",
       "      <td>1958</td>\n",
       "      <td>3.29-4.12</td>\n",
       "      <td>圣路易斯老鹰队</td>\n",
       "      <td>4-2</td>\n",
       "      <td>波士顿凯尔特人队</td>\n",
       "      <td>未设立</td>\n",
       "    </tr>\n",
       "    <tr>\n",
       "      <th>13</th>\n",
       "      <td>1959</td>\n",
       "      <td>4.4-4.9</td>\n",
       "      <td>波士顿凯尔特人队</td>\n",
       "      <td>4-0</td>\n",
       "      <td>明尼阿波利斯湖人队</td>\n",
       "      <td>未设立</td>\n",
       "    </tr>\n",
       "    <tr>\n",
       "      <th>14</th>\n",
       "      <td>1960</td>\n",
       "      <td>3.27-4.9</td>\n",
       "      <td>波士顿凯尔特人队</td>\n",
       "      <td>4-3</td>\n",
       "      <td>圣路易斯老鹰队</td>\n",
       "      <td>未设立</td>\n",
       "    </tr>\n",
       "    <tr>\n",
       "      <th>15</th>\n",
       "      <td>1961</td>\n",
       "      <td>4.2-4.11</td>\n",
       "      <td>波士顿凯尔特人队</td>\n",
       "      <td>4-1</td>\n",
       "      <td>圣路易斯老鹰队</td>\n",
       "      <td>未设立</td>\n",
       "    </tr>\n",
       "    <tr>\n",
       "      <th>16</th>\n",
       "      <td>1962</td>\n",
       "      <td>4.7-4.18</td>\n",
       "      <td>波士顿凯尔特人队</td>\n",
       "      <td>4-3</td>\n",
       "      <td>洛杉矶湖人队</td>\n",
       "      <td>未设立</td>\n",
       "    </tr>\n",
       "    <tr>\n",
       "      <th>17</th>\n",
       "      <td>1963</td>\n",
       "      <td>4.14-4.24</td>\n",
       "      <td>波士顿凯尔特人队</td>\n",
       "      <td>4-2</td>\n",
       "      <td>洛杉矶湖人队</td>\n",
       "      <td>未设立</td>\n",
       "    </tr>\n",
       "    <tr>\n",
       "      <th>18</th>\n",
       "      <td>1964</td>\n",
       "      <td>4.18-4.26</td>\n",
       "      <td>波士顿凯尔特人队</td>\n",
       "      <td>4-1</td>\n",
       "      <td>旧金山勇士队</td>\n",
       "      <td>未设立</td>\n",
       "    </tr>\n",
       "    <tr>\n",
       "      <th>19</th>\n",
       "      <td>1965</td>\n",
       "      <td>4.18-4.25</td>\n",
       "      <td>波士顿凯尔特人队</td>\n",
       "      <td>4-1</td>\n",
       "      <td>洛杉矶湖人队</td>\n",
       "      <td>未设立</td>\n",
       "    </tr>\n",
       "    <tr>\n",
       "      <th>20</th>\n",
       "      <td>1966</td>\n",
       "      <td>4.17-4.28</td>\n",
       "      <td>波士顿凯尔特人队</td>\n",
       "      <td>4-3</td>\n",
       "      <td>洛杉矶湖人队</td>\n",
       "      <td>未设立</td>\n",
       "    </tr>\n",
       "    <tr>\n",
       "      <th>21</th>\n",
       "      <td>1967</td>\n",
       "      <td>4.14-4.24</td>\n",
       "      <td>费城76人队</td>\n",
       "      <td>4-2</td>\n",
       "      <td>旧金山勇士队</td>\n",
       "      <td>未设立</td>\n",
       "    </tr>\n",
       "    <tr>\n",
       "      <th>22</th>\n",
       "      <td>1968</td>\n",
       "      <td>4.21-5.2</td>\n",
       "      <td>波士顿凯尔特人队</td>\n",
       "      <td>4-2</td>\n",
       "      <td>洛杉矶湖人队</td>\n",
       "      <td>未设立</td>\n",
       "    </tr>\n",
       "    <tr>\n",
       "      <th>23</th>\n",
       "      <td>1969</td>\n",
       "      <td>4.23-5.5</td>\n",
       "      <td>波士顿凯尔特人队</td>\n",
       "      <td>4-3</td>\n",
       "      <td>洛杉矶湖人队</td>\n",
       "      <td>杰里·韦斯特</td>\n",
       "    </tr>\n",
       "    <tr>\n",
       "      <th>24</th>\n",
       "      <td>1970</td>\n",
       "      <td>4.24-5.8</td>\n",
       "      <td>纽约尼克斯队</td>\n",
       "      <td>4-3</td>\n",
       "      <td>洛杉矶湖人队</td>\n",
       "      <td>威利斯·里德</td>\n",
       "    </tr>\n",
       "    <tr>\n",
       "      <th>25</th>\n",
       "      <td>1971</td>\n",
       "      <td>4.21-4.30</td>\n",
       "      <td>密尔沃基雄鹿队</td>\n",
       "      <td>4-0</td>\n",
       "      <td>巴尔的摩子弹队</td>\n",
       "      <td>贾巴尔</td>\n",
       "    </tr>\n",
       "    <tr>\n",
       "      <th>26</th>\n",
       "      <td>1972</td>\n",
       "      <td>4.26-5.7</td>\n",
       "      <td>洛杉矶湖人队</td>\n",
       "      <td>4-1</td>\n",
       "      <td>纽约尼克斯队</td>\n",
       "      <td>张伯伦</td>\n",
       "    </tr>\n",
       "    <tr>\n",
       "      <th>27</th>\n",
       "      <td>1973</td>\n",
       "      <td>5.1-5.10</td>\n",
       "      <td>纽约尼克斯队</td>\n",
       "      <td>4-1</td>\n",
       "      <td>洛杉矶湖人队</td>\n",
       "      <td>威利斯·里德</td>\n",
       "    </tr>\n",
       "    <tr>\n",
       "      <th>28</th>\n",
       "      <td>1974</td>\n",
       "      <td>4.28-5.12</td>\n",
       "      <td>波士顿凯尔特人队</td>\n",
       "      <td>4-3</td>\n",
       "      <td>密尔沃基雄鹿队</td>\n",
       "      <td>约翰·哈夫利切克</td>\n",
       "    </tr>\n",
       "    <tr>\n",
       "      <th>29</th>\n",
       "      <td>1975</td>\n",
       "      <td>5.18-5.25</td>\n",
       "      <td>金州勇士队</td>\n",
       "      <td>4-0</td>\n",
       "      <td>华盛顿子弹队</td>\n",
       "      <td>里克·巴里</td>\n",
       "    </tr>\n",
       "    <tr>\n",
       "      <th>30</th>\n",
       "      <td>1976</td>\n",
       "      <td>5.23-6.6</td>\n",
       "      <td>波士顿凯尔特人队</td>\n",
       "      <td>4-2</td>\n",
       "      <td>菲尼克斯太阳队</td>\n",
       "      <td>乔·乔·怀特</td>\n",
       "    </tr>\n",
       "    <tr>\n",
       "      <th>...</th>\n",
       "      <td>...</td>\n",
       "      <td>...</td>\n",
       "      <td>...</td>\n",
       "      <td>...</td>\n",
       "      <td>...</td>\n",
       "      <td>...</td>\n",
       "    </tr>\n",
       "    <tr>\n",
       "      <th>43</th>\n",
       "      <td>1989</td>\n",
       "      <td>6.6-6.13</td>\n",
       "      <td>底特律活塞队</td>\n",
       "      <td>4-0</td>\n",
       "      <td>洛杉矶湖人队</td>\n",
       "      <td>乔·杜马斯</td>\n",
       "    </tr>\n",
       "    <tr>\n",
       "      <th>44</th>\n",
       "      <td>1990</td>\n",
       "      <td>6.5-6.14</td>\n",
       "      <td>底特律活塞队</td>\n",
       "      <td>4-1</td>\n",
       "      <td>波特兰开拓者队</td>\n",
       "      <td>伊塞亚·托马斯</td>\n",
       "    </tr>\n",
       "    <tr>\n",
       "      <th>45</th>\n",
       "      <td>1991</td>\n",
       "      <td>6.2-6.12</td>\n",
       "      <td>芝加哥公牛队</td>\n",
       "      <td>4-1</td>\n",
       "      <td>洛杉矶湖人队</td>\n",
       "      <td>迈克尔·乔丹</td>\n",
       "    </tr>\n",
       "    <tr>\n",
       "      <th>46</th>\n",
       "      <td>1992</td>\n",
       "      <td>6.3-6.14</td>\n",
       "      <td>芝加哥公牛队</td>\n",
       "      <td>4-2</td>\n",
       "      <td>波特兰开拓者队</td>\n",
       "      <td>迈克尔·乔丹</td>\n",
       "    </tr>\n",
       "    <tr>\n",
       "      <th>47</th>\n",
       "      <td>1993</td>\n",
       "      <td>6.9-6.20</td>\n",
       "      <td>芝加哥公牛队</td>\n",
       "      <td>4-2</td>\n",
       "      <td>菲尼克斯太阳队</td>\n",
       "      <td>迈克尔·乔丹</td>\n",
       "    </tr>\n",
       "    <tr>\n",
       "      <th>48</th>\n",
       "      <td>1994</td>\n",
       "      <td>6.8-6.22</td>\n",
       "      <td>休斯顿火箭队</td>\n",
       "      <td>4-3</td>\n",
       "      <td>纽约尼克斯队</td>\n",
       "      <td>哈基姆·奥拉朱旺</td>\n",
       "    </tr>\n",
       "    <tr>\n",
       "      <th>49</th>\n",
       "      <td>1995</td>\n",
       "      <td>6.7-6.14</td>\n",
       "      <td>休斯顿火箭队</td>\n",
       "      <td>4-0</td>\n",
       "      <td>奥兰多魔术队</td>\n",
       "      <td>哈基姆·奥拉朱旺</td>\n",
       "    </tr>\n",
       "    <tr>\n",
       "      <th>50</th>\n",
       "      <td>1996</td>\n",
       "      <td>6.5-6.16</td>\n",
       "      <td>芝加哥公牛队</td>\n",
       "      <td>4-2</td>\n",
       "      <td>西雅图超音速队</td>\n",
       "      <td>迈克尔·乔丹</td>\n",
       "    </tr>\n",
       "    <tr>\n",
       "      <th>51</th>\n",
       "      <td>1997</td>\n",
       "      <td>6.1-6.13</td>\n",
       "      <td>芝加哥公牛队</td>\n",
       "      <td>4-2</td>\n",
       "      <td>犹他爵士队</td>\n",
       "      <td>迈克尔·乔丹</td>\n",
       "    </tr>\n",
       "    <tr>\n",
       "      <th>52</th>\n",
       "      <td>1998</td>\n",
       "      <td>6.3-6.14</td>\n",
       "      <td>芝加哥公牛队</td>\n",
       "      <td>4-2</td>\n",
       "      <td>犹他爵士队</td>\n",
       "      <td>迈克尔·乔丹</td>\n",
       "    </tr>\n",
       "    <tr>\n",
       "      <th>53</th>\n",
       "      <td>1999</td>\n",
       "      <td>6.16-6.25</td>\n",
       "      <td>圣安东尼奥马刺队</td>\n",
       "      <td>4-1</td>\n",
       "      <td>纽约尼克斯队</td>\n",
       "      <td>蒂姆·邓肯</td>\n",
       "    </tr>\n",
       "    <tr>\n",
       "      <th>54</th>\n",
       "      <td>2000</td>\n",
       "      <td>6.7-6.19</td>\n",
       "      <td>洛杉矶湖人队</td>\n",
       "      <td>4-2</td>\n",
       "      <td>印第安纳步行者队</td>\n",
       "      <td>沙奎尔·奥尼尔</td>\n",
       "    </tr>\n",
       "    <tr>\n",
       "      <th>55</th>\n",
       "      <td>2001</td>\n",
       "      <td>6.6-6.15</td>\n",
       "      <td>洛杉矶湖人队</td>\n",
       "      <td>4-1</td>\n",
       "      <td>费城76人队</td>\n",
       "      <td>沙奎尔·奥尼尔</td>\n",
       "    </tr>\n",
       "    <tr>\n",
       "      <th>56</th>\n",
       "      <td>2002</td>\n",
       "      <td>6.5-6.12</td>\n",
       "      <td>洛杉矶湖人队</td>\n",
       "      <td>4-0</td>\n",
       "      <td>新泽西网队</td>\n",
       "      <td>沙奎尔·奥尼尔</td>\n",
       "    </tr>\n",
       "    <tr>\n",
       "      <th>57</th>\n",
       "      <td>2003</td>\n",
       "      <td>6.5-6.16</td>\n",
       "      <td>圣安东尼奥马刺队</td>\n",
       "      <td>4-2</td>\n",
       "      <td>新泽西网队</td>\n",
       "      <td>蒂姆·邓肯</td>\n",
       "    </tr>\n",
       "    <tr>\n",
       "      <th>58</th>\n",
       "      <td>2004</td>\n",
       "      <td>6.7-6.16</td>\n",
       "      <td>底特律活塞队</td>\n",
       "      <td>4-1</td>\n",
       "      <td>洛杉矶湖人队</td>\n",
       "      <td>昌西·比卢普斯</td>\n",
       "    </tr>\n",
       "    <tr>\n",
       "      <th>59</th>\n",
       "      <td>2005</td>\n",
       "      <td>6.10-6.24</td>\n",
       "      <td>圣安东尼奥马刺队</td>\n",
       "      <td>4-3</td>\n",
       "      <td>底特律活塞队</td>\n",
       "      <td>蒂姆·邓肯</td>\n",
       "    </tr>\n",
       "    <tr>\n",
       "      <th>60</th>\n",
       "      <td>2006</td>\n",
       "      <td>6.9-6.21</td>\n",
       "      <td>迈阿密热火队</td>\n",
       "      <td>4-2</td>\n",
       "      <td>达拉斯小牛队</td>\n",
       "      <td>德怀恩·韦德</td>\n",
       "    </tr>\n",
       "    <tr>\n",
       "      <th>61</th>\n",
       "      <td>2007</td>\n",
       "      <td>6.8-6.15</td>\n",
       "      <td>圣安东尼奥马刺队</td>\n",
       "      <td>4-0</td>\n",
       "      <td>克里夫兰骑士队</td>\n",
       "      <td>托尼·帕克</td>\n",
       "    </tr>\n",
       "    <tr>\n",
       "      <th>62</th>\n",
       "      <td>2008</td>\n",
       "      <td>6.6-6.18</td>\n",
       "      <td>波士顿凯尔特人队</td>\n",
       "      <td>4-2</td>\n",
       "      <td>洛杉矶湖人队</td>\n",
       "      <td>保罗·皮尔斯</td>\n",
       "    </tr>\n",
       "    <tr>\n",
       "      <th>63</th>\n",
       "      <td>2009</td>\n",
       "      <td>6.5-6.15</td>\n",
       "      <td>洛杉矶湖人队</td>\n",
       "      <td>4-1</td>\n",
       "      <td>奥兰多魔术队</td>\n",
       "      <td>科比·布莱恩特</td>\n",
       "    </tr>\n",
       "    <tr>\n",
       "      <th>64</th>\n",
       "      <td>2010</td>\n",
       "      <td>6.4-6.18</td>\n",
       "      <td>洛杉矶湖人队</td>\n",
       "      <td>4-3</td>\n",
       "      <td>波士顿凯尔特人队</td>\n",
       "      <td>科比·布莱恩特</td>\n",
       "    </tr>\n",
       "    <tr>\n",
       "      <th>65</th>\n",
       "      <td>2011</td>\n",
       "      <td>6.1-6.13</td>\n",
       "      <td>达拉斯小牛队</td>\n",
       "      <td>4-2</td>\n",
       "      <td>迈阿密热火队</td>\n",
       "      <td>德克·诺维茨基</td>\n",
       "    </tr>\n",
       "    <tr>\n",
       "      <th>66</th>\n",
       "      <td>2012</td>\n",
       "      <td>6.13-6.22</td>\n",
       "      <td>迈阿密热火队</td>\n",
       "      <td>4-1</td>\n",
       "      <td>俄克拉荷马城雷霆队</td>\n",
       "      <td>勒布朗·詹姆斯</td>\n",
       "    </tr>\n",
       "    <tr>\n",
       "      <th>67</th>\n",
       "      <td>2013</td>\n",
       "      <td>6.7-6.21</td>\n",
       "      <td>迈阿密热火队</td>\n",
       "      <td>4-3</td>\n",
       "      <td>圣安东尼奥马刺队</td>\n",
       "      <td>勒布朗·詹姆斯</td>\n",
       "    </tr>\n",
       "    <tr>\n",
       "      <th>68</th>\n",
       "      <td>2014</td>\n",
       "      <td>6.6-6.16</td>\n",
       "      <td>圣安东尼奥马刺队</td>\n",
       "      <td>4-1</td>\n",
       "      <td>迈阿密热火队</td>\n",
       "      <td>科怀·伦纳德</td>\n",
       "    </tr>\n",
       "    <tr>\n",
       "      <th>69</th>\n",
       "      <td>2015</td>\n",
       "      <td>6.5-6.17</td>\n",
       "      <td>金州勇士队</td>\n",
       "      <td>4-2</td>\n",
       "      <td>克里夫兰骑士队</td>\n",
       "      <td>安德烈·伊戈达拉</td>\n",
       "    </tr>\n",
       "    <tr>\n",
       "      <th>70</th>\n",
       "      <td>2016</td>\n",
       "      <td>6.3-6.20</td>\n",
       "      <td>克里夫兰骑士队</td>\n",
       "      <td>4-3</td>\n",
       "      <td>金州勇士队</td>\n",
       "      <td>勒布朗·詹姆斯</td>\n",
       "    </tr>\n",
       "    <tr>\n",
       "      <th>71</th>\n",
       "      <td>2017</td>\n",
       "      <td>6.2-6.13</td>\n",
       "      <td>金州勇士队</td>\n",
       "      <td>4-1</td>\n",
       "      <td>克利夫兰骑士队</td>\n",
       "      <td>凯文·杜兰特</td>\n",
       "    </tr>\n",
       "    <tr>\n",
       "      <th>72</th>\n",
       "      <td>2018</td>\n",
       "      <td>6.1-6.9</td>\n",
       "      <td>金州勇士队</td>\n",
       "      <td>4-0</td>\n",
       "      <td>克利夫兰骑士队</td>\n",
       "      <td>凯文·杜兰特</td>\n",
       "    </tr>\n",
       "  </tbody>\n",
       "</table>\n",
       "<p>72 rows × 6 columns</p>\n",
       "</div>"
      ],
      "text/plain": [
       "0     年份       比赛日期         冠军  总比分         亚军      FMVP\n",
       "1   1947  4.16-4.22      费城勇士队  4-1     芝加哥牡鹿队       未设立\n",
       "2   1948  4.10-4.21    巴尔的摩子弹队  4-2      费城勇士队       未设立\n",
       "3   1949   4.4-4.13  明尼阿波利斯湖人队  4-2     华盛顿国会队       未设立\n",
       "4   1950   4.8-4.23  明尼阿波利斯湖人队  4-2    塞拉库斯民族队       未设立\n",
       "5   1951   4.7-4.21    皇家罗切斯特队  4-3     纽约尼克斯队       未设立\n",
       "6   1952  4.12-4.25  明尼阿波利斯湖人队  4-3     纽约尼克斯队       未设立\n",
       "7   1953   4.4-4.10  明尼阿波利斯湖人队  4-1     纽约尼克斯队       未设立\n",
       "8   1954  3.31-4.12  明尼阿波利斯湖人队  4-3    塞拉库斯民族队       未设立\n",
       "9   1955  3.31-4.10    塞拉库斯民族队  4-3    福特韦恩活塞队       未设立\n",
       "10  1956   3.31-4.7      费城勇士队  4-1    福特韦恩活塞队       未设立\n",
       "11  1957  3.30-4.13   波士顿凯尔特人队  4-3    圣路易斯老鹰队       未设立\n",
       "12  1958  3.29-4.12    圣路易斯老鹰队  4-2   波士顿凯尔特人队       未设立\n",
       "13  1959    4.4-4.9   波士顿凯尔特人队  4-0  明尼阿波利斯湖人队       未设立\n",
       "14  1960   3.27-4.9   波士顿凯尔特人队  4-3    圣路易斯老鹰队       未设立\n",
       "15  1961   4.2-4.11   波士顿凯尔特人队  4-1    圣路易斯老鹰队       未设立\n",
       "16  1962   4.7-4.18   波士顿凯尔特人队  4-3     洛杉矶湖人队       未设立\n",
       "17  1963  4.14-4.24   波士顿凯尔特人队  4-2     洛杉矶湖人队       未设立\n",
       "18  1964  4.18-4.26   波士顿凯尔特人队  4-1     旧金山勇士队       未设立\n",
       "19  1965  4.18-4.25   波士顿凯尔特人队  4-1     洛杉矶湖人队       未设立\n",
       "20  1966  4.17-4.28   波士顿凯尔特人队  4-3     洛杉矶湖人队       未设立\n",
       "21  1967  4.14-4.24     费城76人队  4-2     旧金山勇士队       未设立\n",
       "22  1968   4.21-5.2   波士顿凯尔特人队  4-2     洛杉矶湖人队       未设立\n",
       "23  1969   4.23-5.5   波士顿凯尔特人队  4-3     洛杉矶湖人队    杰里·韦斯特\n",
       "24  1970   4.24-5.8     纽约尼克斯队  4-3     洛杉矶湖人队    威利斯·里德\n",
       "25  1971  4.21-4.30    密尔沃基雄鹿队  4-0    巴尔的摩子弹队       贾巴尔\n",
       "26  1972   4.26-5.7     洛杉矶湖人队  4-1     纽约尼克斯队       张伯伦\n",
       "27  1973   5.1-5.10     纽约尼克斯队  4-1     洛杉矶湖人队    威利斯·里德\n",
       "28  1974  4.28-5.12   波士顿凯尔特人队  4-3    密尔沃基雄鹿队  约翰·哈夫利切克\n",
       "29  1975  5.18-5.25      金州勇士队  4-0     华盛顿子弹队     里克·巴里\n",
       "30  1976   5.23-6.6   波士顿凯尔特人队  4-2    菲尼克斯太阳队    乔·乔·怀特\n",
       "..   ...        ...        ...  ...        ...       ...\n",
       "43  1989   6.6-6.13     底特律活塞队  4-0     洛杉矶湖人队     乔·杜马斯\n",
       "44  1990   6.5-6.14     底特律活塞队  4-1    波特兰开拓者队   伊塞亚·托马斯\n",
       "45  1991   6.2-6.12     芝加哥公牛队  4-1     洛杉矶湖人队    迈克尔·乔丹\n",
       "46  1992   6.3-6.14     芝加哥公牛队  4-2    波特兰开拓者队    迈克尔·乔丹\n",
       "47  1993   6.9-6.20     芝加哥公牛队  4-2    菲尼克斯太阳队    迈克尔·乔丹\n",
       "48  1994   6.8-6.22     休斯顿火箭队  4-3     纽约尼克斯队  哈基姆·奥拉朱旺\n",
       "49  1995   6.7-6.14     休斯顿火箭队  4-0     奥兰多魔术队  哈基姆·奥拉朱旺\n",
       "50  1996   6.5-6.16     芝加哥公牛队  4-2    西雅图超音速队    迈克尔·乔丹\n",
       "51  1997   6.1-6.13     芝加哥公牛队  4-2      犹他爵士队    迈克尔·乔丹\n",
       "52  1998   6.3-6.14     芝加哥公牛队  4-2      犹他爵士队    迈克尔·乔丹\n",
       "53  1999  6.16-6.25   圣安东尼奥马刺队  4-1     纽约尼克斯队     蒂姆·邓肯\n",
       "54  2000   6.7-6.19     洛杉矶湖人队  4-2   印第安纳步行者队   沙奎尔·奥尼尔\n",
       "55  2001   6.6-6.15     洛杉矶湖人队  4-1     费城76人队   沙奎尔·奥尼尔\n",
       "56  2002   6.5-6.12     洛杉矶湖人队  4-0      新泽西网队   沙奎尔·奥尼尔\n",
       "57  2003   6.5-6.16   圣安东尼奥马刺队  4-2      新泽西网队     蒂姆·邓肯\n",
       "58  2004   6.7-6.16     底特律活塞队  4-1     洛杉矶湖人队   昌西·比卢普斯\n",
       "59  2005  6.10-6.24   圣安东尼奥马刺队  4-3     底特律活塞队     蒂姆·邓肯\n",
       "60  2006   6.9-6.21     迈阿密热火队  4-2     达拉斯小牛队    德怀恩·韦德\n",
       "61  2007   6.8-6.15   圣安东尼奥马刺队  4-0    克里夫兰骑士队     托尼·帕克\n",
       "62  2008   6.6-6.18   波士顿凯尔特人队  4-2     洛杉矶湖人队    保罗·皮尔斯\n",
       "63  2009   6.5-6.15     洛杉矶湖人队  4-1     奥兰多魔术队   科比·布莱恩特\n",
       "64  2010   6.4-6.18     洛杉矶湖人队  4-3   波士顿凯尔特人队   科比·布莱恩特\n",
       "65  2011   6.1-6.13     达拉斯小牛队  4-2     迈阿密热火队   德克·诺维茨基\n",
       "66  2012  6.13-6.22     迈阿密热火队  4-1  俄克拉荷马城雷霆队   勒布朗·詹姆斯\n",
       "67  2013   6.7-6.21     迈阿密热火队  4-3   圣安东尼奥马刺队   勒布朗·詹姆斯\n",
       "68  2014   6.6-6.16   圣安东尼奥马刺队  4-1     迈阿密热火队    科怀·伦纳德\n",
       "69  2015   6.5-6.17      金州勇士队  4-2    克里夫兰骑士队  安德烈·伊戈达拉\n",
       "70  2016   6.3-6.20    克里夫兰骑士队  4-3      金州勇士队   勒布朗·詹姆斯\n",
       "71  2017   6.2-6.13      金州勇士队  4-1    克利夫兰骑士队    凯文·杜兰特\n",
       "72  2018    6.1-6.9      金州勇士队  4-0    克利夫兰骑士队    凯文·杜兰特\n",
       "\n",
       "[72 rows x 6 columns]"
      ]
     },
     "execution_count": 172,
     "metadata": {},
     "output_type": "execute_result"
    }
   ],
   "source": [
    "chapion_res"
   ]
  },
  {
   "cell_type": "code",
   "execution_count": 171,
   "metadata": {},
   "outputs": [
    {
     "data": {
      "text/plain": [
       "{'休斯顿火箭队': Int64Index([48, 49], dtype='int64'),\n",
       " '克里夫兰骑士队': Int64Index([70], dtype='int64'),\n",
       " '华盛顿子弹队': Int64Index([32], dtype='int64'),\n",
       " '圣安东尼奥马刺队': Int64Index([53, 57, 59, 61, 68], dtype='int64'),\n",
       " '圣路易斯老鹰队': Int64Index([12], dtype='int64'),\n",
       " '塞拉库斯民族队': Int64Index([9], dtype='int64'),\n",
       " '密尔沃基雄鹿队': Int64Index([25], dtype='int64'),\n",
       " '巴尔的摩子弹队': Int64Index([2], dtype='int64'),\n",
       " '底特律活塞队': Int64Index([43, 44, 58], dtype='int64'),\n",
       " '明尼阿波利斯湖人队': Int64Index([3, 4, 6, 7, 8], dtype='int64'),\n",
       " '波士顿凯尔特人队': Int64Index([11, 13, 14, 15, 16, 17, 18, 19, 20, 22, 23, 28, 30, 35, 38, 40,\n",
       "             62],\n",
       "            dtype='int64'),\n",
       " '波特兰开拓者队': Int64Index([31], dtype='int64'),\n",
       " '洛杉矶湖人队': Int64Index([26, 34, 36, 39, 41, 42, 54, 55, 56, 63, 64], dtype='int64'),\n",
       " '皇家罗切斯特队': Int64Index([5], dtype='int64'),\n",
       " '纽约尼克斯队': Int64Index([24, 27], dtype='int64'),\n",
       " '芝加哥公牛队': Int64Index([45, 46, 47, 50, 51, 52], dtype='int64'),\n",
       " '西雅图超音速队': Int64Index([33], dtype='int64'),\n",
       " '费城76人队': Int64Index([21, 37], dtype='int64'),\n",
       " '费城勇士队': Int64Index([1, 10], dtype='int64'),\n",
       " '达拉斯小牛队': Int64Index([65], dtype='int64'),\n",
       " '迈阿密热火队': Int64Index([60, 66, 67], dtype='int64'),\n",
       " '金州勇士队': Int64Index([29, 69, 71, 72], dtype='int64')}"
      ]
     },
     "execution_count": 171,
     "metadata": {},
     "output_type": "execute_result"
    }
   ],
   "source": [
    "chapion_res.groupby('冠军').groups"
   ]
  },
  {
   "cell_type": "code",
   "execution_count": 174,
   "metadata": {},
   "outputs": [
    {
     "data": {
      "text/plain": [
       "冠军\n",
       "波士顿凯尔特人队     17\n",
       "洛杉矶湖人队       11\n",
       "芝加哥公牛队        6\n",
       "圣安东尼奥马刺队      5\n",
       "明尼阿波利斯湖人队     5\n",
       "金州勇士队         4\n",
       "迈阿密热火队        3\n",
       "底特律活塞队        3\n",
       "纽约尼克斯队        2\n",
       "费城76人队        2\n",
       "费城勇士队         2\n",
       "休斯顿火箭队        2\n",
       "西雅图超音速队       1\n",
       "皇家罗切斯特队       1\n",
       "波特兰开拓者队       1\n",
       "巴尔的摩子弹队       1\n",
       "密尔沃基雄鹿队       1\n",
       "塞拉库斯民族队       1\n",
       "圣路易斯老鹰队       1\n",
       "达拉斯小牛队        1\n",
       "华盛顿子弹队        1\n",
       "克里夫兰骑士队       1\n",
       "dtype: int64"
      ]
     },
     "execution_count": 174,
     "metadata": {},
     "output_type": "execute_result"
    }
   ],
   "source": [
    "chapion_res.groupby('冠军').size().sort_values(ascending=False)"
   ]
  },
  {
   "cell_type": "code",
   "execution_count": 178,
   "metadata": {},
   "outputs": [],
   "source": [
    "df.agg?"
   ]
  },
  {
   "cell_type": "code",
   "execution_count": 180,
   "metadata": {},
   "outputs": [
    {
     "data": {
      "text/plain": [
       "冠军\n",
       "休斯顿火箭队        2\n",
       "克里夫兰骑士队       1\n",
       "华盛顿子弹队        1\n",
       "圣安东尼奥马刺队      5\n",
       "圣路易斯老鹰队       1\n",
       "塞拉库斯民族队       1\n",
       "密尔沃基雄鹿队       1\n",
       "巴尔的摩子弹队       1\n",
       "底特律活塞队        3\n",
       "明尼阿波利斯湖人队     5\n",
       "波士顿凯尔特人队     17\n",
       "波特兰开拓者队       1\n",
       "洛杉矶湖人队       11\n",
       "皇家罗切斯特队       1\n",
       "纽约尼克斯队        2\n",
       "芝加哥公牛队        6\n",
       "西雅图超音速队       1\n",
       "费城76人队        2\n",
       "费城勇士队         2\n",
       "达拉斯小牛队        1\n",
       "迈阿密热火队        3\n",
       "金州勇士队         4\n",
       "dtype: int64"
      ]
     },
     "execution_count": 180,
     "metadata": {},
     "output_type": "execute_result"
    }
   ],
   "source": [
    "chapion_res.groupby('冠军').agg('size')"
   ]
  },
  {
   "cell_type": "code",
   "execution_count": 189,
   "metadata": {},
   "outputs": [
    {
     "data": {
      "text/plain": [
       "波士顿凯尔特人队     17\n",
       "洛杉矶湖人队       11\n",
       "芝加哥公牛队        6\n",
       "明尼阿波利斯湖人队     5\n",
       "圣安东尼奥马刺队      5\n",
       "金州勇士队         4\n",
       "迈阿密热火队        3\n",
       "底特律活塞队        3\n",
       "费城76人队        2\n",
       "纽约尼克斯队        2\n",
       "休斯顿火箭队        2\n",
       "费城勇士队         2\n",
       "密尔沃基雄鹿队       1\n",
       "达拉斯小牛队        1\n",
       "塞拉库斯民族队       1\n",
       "圣路易斯老鹰队       1\n",
       "西雅图超音速队       1\n",
       "巴尔的摩子弹队       1\n",
       "克里夫兰骑士队       1\n",
       "波特兰开拓者队       1\n",
       "皇家罗切斯特队       1\n",
       "华盛顿子弹队        1\n",
       "Name: 冠军, dtype: int64"
      ]
     },
     "execution_count": 189,
     "metadata": {},
     "output_type": "execute_result"
    }
   ],
   "source": [
    "chapion_res['冠军'].value_counts()"
   ]
  },
  {
   "cell_type": "code",
   "execution_count": 194,
   "metadata": {},
   "outputs": [
    {
     "data": {
      "text/plain": [
       "冠军         FMVP      \n",
       "波士顿凯尔特人队   未设立           10\n",
       "芝加哥公牛队     迈克尔·乔丹         6\n",
       "明尼阿波利斯湖人队  未设立            5\n",
       "圣安东尼奥马刺队   蒂姆·邓肯          3\n",
       "洛杉矶湖人队     埃尔文·约翰逊        3\n",
       "           沙奎尔·奥尼尔        3\n",
       "波士顿凯尔特人队   拉里·伯德          2\n",
       "洛杉矶湖人队     科比·布莱恩特        2\n",
       "纽约尼克斯队     威利斯·里德         2\n",
       "休斯顿火箭队     哈基姆·奥拉朱旺       2\n",
       "费城勇士队      未设立            2\n",
       "迈阿密热火队     勒布朗·詹姆斯        2\n",
       "金州勇士队      凯文·杜兰特         2\n",
       "圣安东尼奥马刺队   科怀·伦纳德         1\n",
       "           托尼·帕克          1\n",
       "波士顿凯尔特人队   乔·乔·怀特         1\n",
       "塞拉库斯民族队    未设立            1\n",
       "密尔沃基雄鹿队    贾巴尔            1\n",
       "华盛顿子弹队     韦斯·昂塞尔德        1\n",
       "巴尔的摩子弹队    未设立            1\n",
       "底特律活塞队     乔·杜马斯          1\n",
       "           伊塞亚·托马斯        1\n",
       "           昌西·比卢普斯        1\n",
       "克里夫兰骑士队    勒布朗·詹姆斯        1\n",
       "圣路易斯老鹰队    未设立            1\n",
       "金州勇士队      里克·巴里          1\n",
       "波士顿凯尔特人队   保罗·皮尔斯         1\n",
       "           塞德里克·麦克斯维尔     1\n",
       "           杰里·韦斯特         1\n",
       "金州勇士队      安德烈·伊戈达拉       1\n",
       "波特兰开拓者队    比尔·沃顿          1\n",
       "洛杉矶湖人队     张伯伦            1\n",
       "           詹姆斯·沃西         1\n",
       "           贾巴尔            1\n",
       "皇家罗切斯特队    未设立            1\n",
       "西雅图超音速队    丹尼斯·约翰逊        1\n",
       "费城76人队     摩西·马龙          1\n",
       "           未设立            1\n",
       "达拉斯小牛队     德克·诺维茨基        1\n",
       "迈阿密热火队     德怀恩·韦德         1\n",
       "波士顿凯尔特人队   约翰·哈夫利切克       1\n",
       "dtype: int64"
      ]
     },
     "execution_count": 194,
     "metadata": {},
     "output_type": "execute_result"
    }
   ],
   "source": [
    "chapion_res.groupby(['冠军', 'FMVP']).agg('size').sort_values(ascending=False)"
   ]
  },
  {
   "cell_type": "code",
   "execution_count": null,
   "metadata": {},
   "outputs": [],
   "source": []
  }
 ],
 "metadata": {
  "kernelspec": {
   "display_name": "Python 3",
   "language": "python",
   "name": "python3"
  },
  "language_info": {
   "codemirror_mode": {
    "name": "ipython",
    "version": 3
   },
   "file_extension": ".py",
   "mimetype": "text/x-python",
   "name": "python",
   "nbconvert_exporter": "python",
   "pygments_lexer": "ipython3",
   "version": "3.7.3"
  }
 },
 "nbformat": 4,
 "nbformat_minor": 2
}
